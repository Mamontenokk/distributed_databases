{
 "cells": [
  {
   "cell_type": "code",
   "execution_count": 2,
   "metadata": {},
   "outputs": [],
   "source": [
    "from pymongo import MongoClient"
   ]
  },
  {
   "cell_type": "code",
   "execution_count": 8,
   "metadata": {},
   "outputs": [],
   "source": [
    "client = MongoClient('localhost', 27017)"
   ]
  },
  {
   "cell_type": "code",
   "execution_count": 9,
   "metadata": {},
   "outputs": [],
   "source": [
    "mongo_db = client.distributed_databases"
   ]
  },
  {
   "cell_type": "code",
   "execution_count": 10,
   "metadata": {},
   "outputs": [],
   "source": [
    "collection = mongo_db['items']"
   ]
  },
  {
   "cell_type": "code",
   "execution_count": 11,
   "metadata": {},
   "outputs": [
    {
     "ename": "SyntaxError",
     "evalue": "invalid syntax (1664494219.py, line 23)",
     "output_type": "error",
     "traceback": [
      "\u001b[1;36m  Cell \u001b[1;32mIn[11], line 23\u001b[1;36m\u001b[0m\n\u001b[1;33m    \"model\": \"SmartTV v4.2\",\u001b[0m\n\u001b[1;37m           ^\u001b[0m\n\u001b[1;31mSyntaxError\u001b[0m\u001b[1;31m:\u001b[0m invalid syntax\n"
     ]
    }
   ],
   "source": [
    "items = [\n",
    "    {\n",
    "        \"category\": \"Phone\",\n",
    "        \"model\": \"iPhone 13\",\n",
    "        \"producer\": \"Apple\",\n",
    "        \"price\": 1200\n",
    "    },\n",
    "    {\n",
    "        \"category\": \"Phone\",\n",
    "        \"model\": \"iPhone 12\",\n",
    "        \"producer\": \"Apple\",\n",
    "        \"price\": 1000\n",
    "    },\n",
    "    {\n",
    "        \"category\": \"Phone\",\n",
    "        \"model\": \"Galaxy S26\",\n",
    "        \"producer\": \"Samsung\",\n",
    "        \"price\": 1150\n",
    "    },\n",
    "    {\n",
    "        \"category\": \"TV\",\n",
    "        \"sub_category\": \"Smart TV\",\n",
    "        \"model\": \"SmartTV v4.2\",\n",
    "        \"producer\": \"Samsung\",\n",
    "        \"price\": 1200,\n",
    "    },\n",
    "    {\n",
    "        \"category\": \"TV\",\n",
    "        \"model\": \"Gigantic 1000\",\n",
    "        \"producer\": \"Spacio\",\n",
    "        \"price\": 2000,\n",
    "        \"max_discount\": \"25%\"\n",
    "    },\n",
    "    {\n",
    "        \"category\": \"Cooker\",\n",
    "        \"model\": \"Pasteroni\",\n",
    "        \"producer\": \"Italiez\",\n",
    "        \"price\": 2000,\n",
    "        \"height\": \"38cm\"\n",
    "    },\n",
    "    {\n",
    "        \"category\": \"Cooker\",\n",
    "        \"model\": \"Pasteroni Pro\",\n",
    "        \"producer\": \"Italiez\",\n",
    "        \"price\": 2500,\n",
    "        \"height\": \"40cm\"\n",
    "    },\n",
    "]"
   ]
  },
  {
   "cell_type": "code",
   "execution_count": null,
   "metadata": {},
   "outputs": [],
   "source": []
  }
 ],
 "metadata": {
  "kernelspec": {
   "display_name": ".venv",
   "language": "python",
   "name": "python3"
  },
  "language_info": {
   "codemirror_mode": {
    "name": "ipython",
    "version": 3
   },
   "file_extension": ".py",
   "mimetype": "text/x-python",
   "name": "python",
   "nbconvert_exporter": "python",
   "pygments_lexer": "ipython3",
   "version": "3.8.1"
  }
 },
 "nbformat": 4,
 "nbformat_minor": 2
}
