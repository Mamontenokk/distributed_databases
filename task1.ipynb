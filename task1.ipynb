{
 "cells": [
  {
   "cell_type": "code",
   "execution_count": 75,
   "metadata": {},
   "outputs": [],
   "source": [
    "import psycopg2\n",
    "import threading"
   ]
  },
  {
   "cell_type": "code",
   "execution_count": 61,
   "metadata": {},
   "outputs": [],
   "source": [
    "conn = psycopg2.connect('dbname=dd user=postgres password=mysecretpassword')"
   ]
  },
  {
   "cell_type": "code",
   "execution_count": 8,
   "metadata": {},
   "outputs": [],
   "source": [
    "create_table_query = '''\n",
    "CREATE TABLE user_counter (\n",
    "    USER_ID SERIAL PRIMARY KEY,\n",
    "    Counter INTEGER,\n",
    "    Version INTEGER\n",
    ");\n",
    "'''"
   ]
  },
  {
   "cell_type": "code",
   "execution_count": 15,
   "metadata": {},
   "outputs": [],
   "source": [
    "insert_query = 'INSERT INTO user_counter (Counter, Version) VALUES (1, 0)'"
   ]
  },
  {
   "cell_type": "code",
   "execution_count": 58,
   "metadata": {},
   "outputs": [],
   "source": [
    "reset_query = 'UPDATE user_counter set counter = 0 where user_id = 1'"
   ]
  },
  {
   "cell_type": "code",
   "execution_count": 62,
   "metadata": {},
   "outputs": [],
   "source": [
    "cur = conn.cursor()\n",
    "cur.execute(create_table_query)\n",
    "cur.execute(insert_query)\n",
    "conn.commit()"
   ]
  },
  {
   "cell_type": "code",
   "execution_count": 66,
   "metadata": {},
   "outputs": [],
   "source": [
    "def reset_counter():\n",
    "    cur = conn.cursor()\n",
    "    cur.execute(reset_query)\n",
    "    conn.commit()"
   ]
  },
  {
   "cell_type": "code",
   "execution_count": 51,
   "metadata": {},
   "outputs": [],
   "source": [
    "cur = conn.cursor()"
   ]
  },
  {
   "cell_type": "code",
   "execution_count": 84,
   "metadata": {},
   "outputs": [],
   "source": [
    "def thread_function():\n",
    "    cur = conn.cursor()\n",
    "    for _ in range(10000): \n",
    "        cur.execute('SELECT counter FROM user_counter WHERE user_id = 1')\n",
    "        counter = cur.fetchone()[0]\n",
    "        counter = counter + 1\n",
    "        cur.execute('update user_counter set counter = %s where user_id = %s', (counter, 1))\n",
    "        conn.commit()\n"
   ]
  },
  {
   "cell_type": "code",
   "execution_count": 85,
   "metadata": {},
   "outputs": [
    {
     "name": "stdout",
     "output_type": "stream",
     "text": [
      "Create and start thread 0\n",
      "Create and start thread 1\n",
      "Create and start thread 2\n",
      "Create and start thread 3\n",
      "Create and start thread 4\n",
      "Create and start thread 5\n",
      "Create and start thread 6\n",
      "Create and start thread 7\n",
      "Create and start thread 8\n",
      "Create and start thread 9\n",
      "Before joining thread 0\n",
      "Thread 0 done\n",
      "Before joining thread 1\n",
      "Thread 1 done\n",
      "Before joining thread 2\n",
      "Thread 2 done\n",
      "Before joining thread 3\n",
      "Thread 3 done\n",
      "Before joining thread 4\n",
      "Thread 4 done\n",
      "Before joining thread 5\n",
      "Thread 5 done\n",
      "Before joining thread 6\n",
      "Thread 6 done\n",
      "Before joining thread 7\n",
      "Thread 7 done\n",
      "Before joining thread 8\n",
      "Thread 8 done\n",
      "Before joining thread 9\n",
      "Thread 9 done\n"
     ]
    }
   ],
   "source": [
    "threads = []\n",
    "\n",
    "for index in range(10):\n",
    "    print(f'Create and start thread {index}')\n",
    "    x = threading.Thread(target=thread_function)\n",
    "    threads.append(x)\n",
    "    x.start()\n",
    "\n",
    "for index, thread in enumerate(threads):\n",
    "    print(f'Before joining thread {index}')\n",
    "    thread.join()\n",
    "    print(f'Thread {index} done')"
   ]
  },
  {
   "cell_type": "code",
   "execution_count": 87,
   "metadata": {},
   "outputs": [
    {
     "data": {
      "text/plain": [
       "14224"
      ]
     },
     "execution_count": 87,
     "metadata": {},
     "output_type": "execute_result"
    }
   ],
   "source": [
    "cur.execute('SELECT counter FROM user_counter WHERE user_id = 1')\n",
    "cur.fetchone()[0]"
   ]
  },
  {
   "cell_type": "code",
   "execution_count": 96,
   "metadata": {},
   "outputs": [],
   "source": [
    "reset_counter()"
   ]
  },
  {
   "cell_type": "code",
   "execution_count": 97,
   "metadata": {},
   "outputs": [],
   "source": [
    "def thread_function_two():\n",
    "    cur = conn.cursor()\n",
    "    for _ in range(10000): \n",
    "        cur.execute('update user_counter set counter = counter + 1 where user_id = 1')\n",
    "        conn.commit()\n"
   ]
  },
  {
   "cell_type": "code",
   "execution_count": 98,
   "metadata": {},
   "outputs": [
    {
     "name": "stdout",
     "output_type": "stream",
     "text": [
      "Create and start thread 0\n",
      "Create and start thread 1\n",
      "Create and start thread 2\n",
      "Create and start thread 3\n",
      "Create and start thread 4\n",
      "Create and start thread 5\n",
      "Create and start thread 6\n",
      "Create and start thread 7\n",
      "Create and start thread 8\n",
      "Create and start thread 9\n",
      "Before joining thread 0\n",
      "Thread 0 done\n",
      "Before joining thread 1\n",
      "Thread 1 done\n",
      "Before joining thread 2\n",
      "Thread 2 done\n",
      "Before joining thread 3\n",
      "Thread 3 done\n",
      "Before joining thread 4\n",
      "Thread 4 done\n",
      "Before joining thread 5\n",
      "Thread 5 done\n",
      "Before joining thread 6\n",
      "Thread 6 done\n",
      "Before joining thread 7\n",
      "Thread 7 done\n",
      "Before joining thread 8\n",
      "Thread 8 done\n",
      "Before joining thread 9\n",
      "Thread 9 done\n"
     ]
    }
   ],
   "source": [
    "threads = []\n",
    "\n",
    "for index in range(10):\n",
    "    print(f'Create and start thread {index}')\n",
    "    x = threading.Thread(target=thread_function_two)\n",
    "    threads.append(x)\n",
    "    x.start()\n",
    "\n",
    "for index, thread in enumerate(threads):\n",
    "    print(f'Before joining thread {index}')\n",
    "    thread.join()\n",
    "    print(f'Thread {index} done')"
   ]
  },
  {
   "cell_type": "code",
   "execution_count": 100,
   "metadata": {},
   "outputs": [
    {
     "data": {
      "text/plain": [
       "100000"
      ]
     },
     "execution_count": 100,
     "metadata": {},
     "output_type": "execute_result"
    }
   ],
   "source": [
    "cur.execute('SELECT counter FROM user_counter WHERE user_id = 1')\n",
    "cur.fetchone()[0]"
   ]
  },
  {
   "cell_type": "code",
   "execution_count": 102,
   "metadata": {},
   "outputs": [],
   "source": [
    "reset_counter()"
   ]
  },
  {
   "cell_type": "code",
   "execution_count": 112,
   "metadata": {},
   "outputs": [],
   "source": [
    "def thread_function_three():\n",
    "    conn = psycopg2.connect('dbname=dd user=postgres password=mysecretpassword')\n",
    "    cur = conn.cursor()\n",
    "    for _ in range(10000): \n",
    "        cur.execute('SELECT counter FROM user_counter WHERE user_id = 1 FOR UPDATE')\n",
    "        counter = cur.fetchone()[0]\n",
    "        counter = counter + 1\n",
    "        cur.execute('update user_counter set counter = %s where user_id = %s', (counter, 1))\n",
    "        conn.commit()"
   ]
  },
  {
   "cell_type": "code",
   "execution_count": 113,
   "metadata": {},
   "outputs": [
    {
     "name": "stdout",
     "output_type": "stream",
     "text": [
      "Create and start thread 0\n",
      "Create and start thread 1\n",
      "Create and start thread 2\n",
      "Create and start thread 3\n",
      "Create and start thread 4\n",
      "Create and start thread 5\n",
      "Create and start thread 6\n",
      "Create and start thread 7\n",
      "Create and start thread 8\n",
      "Create and start thread 9\n",
      "Before joining thread 0\n",
      "Thread 0 done\n",
      "Before joining thread 1\n",
      "Thread 1 done\n",
      "Before joining thread 2\n",
      "Thread 2 done\n",
      "Before joining thread 3\n",
      "Thread 3 done\n",
      "Before joining thread 4\n",
      "Thread 4 done\n",
      "Before joining thread 5\n",
      "Thread 5 done\n",
      "Before joining thread 6\n",
      "Thread 6 done\n",
      "Before joining thread 7\n",
      "Thread 7 done\n",
      "Before joining thread 8\n",
      "Thread 8 done\n",
      "Before joining thread 9\n",
      "Thread 9 done\n"
     ]
    }
   ],
   "source": [
    "threads = []\n",
    "\n",
    "for index in range(10):\n",
    "    print(f'Create and start thread {index}')\n",
    "    x = threading.Thread(target=thread_function_three)\n",
    "    threads.append(x)\n",
    "    x.start()\n",
    "\n",
    "for index, thread in enumerate(threads):\n",
    "    print(f'Before joining thread {index}')\n",
    "    thread.join()\n",
    "    print(f'Thread {index} done')"
   ]
  },
  {
   "cell_type": "code",
   "execution_count": 115,
   "metadata": {},
   "outputs": [
    {
     "data": {
      "text/plain": [
       "100000"
      ]
     },
     "execution_count": 115,
     "metadata": {},
     "output_type": "execute_result"
    }
   ],
   "source": [
    "cur.execute('SELECT counter FROM user_counter WHERE user_id = 1')\n",
    "cur.fetchone()[0]"
   ]
  },
  {
   "cell_type": "code",
   "execution_count": 122,
   "metadata": {},
   "outputs": [],
   "source": [
    "reset_counter()"
   ]
  },
  {
   "cell_type": "code",
   "execution_count": 127,
   "metadata": {},
   "outputs": [],
   "source": [
    "def thread_function_four():\n",
    "    conn = psycopg2.connect('dbname=dd user=postgres password=mysecretpassword')\n",
    "    cur = conn.cursor()\n",
    "    for _ in range(10000): \n",
    "        while True:\n",
    "            cur.execute('SELECT counter, version FROM user_counter WHERE user_id = 1')\n",
    "            (counter, version) = cur.fetchone()\n",
    "            counter = counter + 1\n",
    "            cur.execute('update user_counter set counter = %s, version = %s where user_id = %s and version = %s', (counter, version + 1, 1, version))\n",
    "            conn.commit()\n",
    "            count = cur.rowcount\n",
    "            if count > 0: \n",
    "                break\n",
    "            \n"
   ]
  },
  {
   "cell_type": "code",
   "execution_count": 128,
   "metadata": {},
   "outputs": [
    {
     "name": "stdout",
     "output_type": "stream",
     "text": [
      "Create and start thread 0\n",
      "Create and start thread 1\n",
      "Create and start thread 2\n",
      "Create and start thread 3\n",
      "Create and start thread 4\n",
      "Create and start thread 5\n",
      "Create and start thread 6\n",
      "Create and start thread 7\n",
      "Create and start thread 8\n",
      "Create and start thread 9\n",
      "Before joining thread 0\n",
      "Thread 0 done\n",
      "Before joining thread 1\n",
      "Thread 1 done\n",
      "Before joining thread 2\n",
      "Thread 2 done\n",
      "Before joining thread 3\n",
      "Thread 3 done\n",
      "Before joining thread 4\n",
      "Thread 4 done\n",
      "Before joining thread 5\n",
      "Thread 5 done\n",
      "Before joining thread 6\n",
      "Thread 6 done\n",
      "Before joining thread 7\n",
      "Thread 7 done\n",
      "Before joining thread 8\n",
      "Thread 8 done\n",
      "Before joining thread 9\n",
      "Thread 9 done\n"
     ]
    }
   ],
   "source": [
    "threads = []\n",
    "\n",
    "for index in range(10):\n",
    "    print(f'Create and start thread {index}')\n",
    "    x = threading.Thread(target=thread_function_four)\n",
    "    threads.append(x)\n",
    "    x.start()\n",
    "\n",
    "for index, thread in enumerate(threads):\n",
    "    print(f'Before joining thread {index}')\n",
    "    thread.join()\n",
    "    print(f'Thread {index} done')\n"
   ]
  },
  {
   "cell_type": "code",
   "execution_count": 129,
   "metadata": {},
   "outputs": [
    {
     "data": {
      "text/plain": [
       "100000"
      ]
     },
     "execution_count": 129,
     "metadata": {},
     "output_type": "execute_result"
    }
   ],
   "source": [
    "cur.execute('SELECT counter FROM user_counter WHERE user_id = 1')\n",
    "cur.fetchone()[0]"
   ]
  },
  {
   "cell_type": "code",
   "execution_count": null,
   "metadata": {},
   "outputs": [],
   "source": []
  }
 ],
 "metadata": {
  "kernelspec": {
   "display_name": ".venv",
   "language": "python",
   "name": "python3"
  },
  "language_info": {
   "codemirror_mode": {
    "name": "ipython",
    "version": 3
   },
   "file_extension": ".py",
   "mimetype": "text/x-python",
   "name": "python",
   "nbconvert_exporter": "python",
   "pygments_lexer": "ipython3",
   "version": "3.8.1"
  }
 },
 "nbformat": 4,
 "nbformat_minor": 2
}
