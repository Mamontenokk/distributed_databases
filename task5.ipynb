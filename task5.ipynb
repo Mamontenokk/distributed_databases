{
 "cells": [
  {
   "cell_type": "code",
   "execution_count": 348,
   "metadata": {},
   "outputs": [],
   "source": [
    "from cassandra.cluster import Cluster\n",
    "import uuid\n",
    "from datetime import datetime, timedelta"
   ]
  },
  {
   "cell_type": "code",
   "execution_count": 125,
   "metadata": {},
   "outputs": [],
   "source": [
    "cluster = Cluster(['localhost'], protocol_version=4)"
   ]
  },
  {
   "cell_type": "code",
   "execution_count": 126,
   "metadata": {},
   "outputs": [],
   "source": [
    "session = cluster.connect()"
   ]
  },
  {
   "cell_type": "code",
   "execution_count": 127,
   "metadata": {},
   "outputs": [
    {
     "data": {
      "text/plain": [
       "<cassandra.cluster.ResultSet at 0x149909d22e0>"
      ]
     },
     "execution_count": 127,
     "metadata": {},
     "output_type": "execute_result"
    }
   ],
   "source": [
    "query = \"\"\"\n",
    "    CREATE KEYSPACE IF NOT EXISTS test_keyspace \n",
    "    WITH replication = {\n",
    "        'class': 'SimpleStrategy', \n",
    "        'replication_factor': '1'\n",
    "    }\n",
    "\"\"\"\n",
    "session.execute(query)"
   ]
  },
  {
   "cell_type": "code",
   "execution_count": 128,
   "metadata": {},
   "outputs": [],
   "source": [
    "session.set_keyspace('test_keyspace')"
   ]
  },
  {
   "cell_type": "code",
   "execution_count": 129,
   "metadata": {},
   "outputs": [],
   "source": [
    "items = [\n",
    "    {\n",
    "        \"category\": \"Phone\",\n",
    "        \"model\": \"iPhone 13\",\n",
    "        \"producer\": \"Apple\",\n",
    "        \"price\": 1200\n",
    "    },\n",
    "    {\n",
    "        \"category\": \"Phone\",\n",
    "        \"model\": \"iPhone 12\",\n",
    "        \"producer\": \"Apple\",\n",
    "        \"price\": 1000\n",
    "    },\n",
    "    {\n",
    "        \"category\": \"Phone\",\n",
    "        \"model\": \"Galaxy S26\",\n",
    "        \"producer\": \"Samsung\",\n",
    "        \"price\": 1150\n",
    "    },\n",
    "    {\n",
    "        \"category\": \"TV\",\n",
    "        \"model\": \"SmartTV v4.2\",\n",
    "        \"producer\": \"Samsung\",\n",
    "        \"price\": 1200,\n",
    "        \"custom_params\":{\"sub_category\": \"Smart TV\"},\n",
    "    },\n",
    "    {\n",
    "        \"category\": \"TV\",\n",
    "        \"model\": \"Gigantic 1000\",\n",
    "        \"producer\": \"Spacio\",\n",
    "        \"price\": 2000,\n",
    "        \"custom_params\": {\"max_discount\": \"25%\"}\n",
    "    },\n",
    "    {\n",
    "        \"category\": \"Cooker\",\n",
    "        \"model\": \"Pasteroni\",\n",
    "        \"producer\": \"Italiez\",\n",
    "        \"price\": 2000,\n",
    "        \"custom_params\": {\"height\": \"38cm\"}\n",
    "    },\n",
    "    {\n",
    "        \"category\": \"Cooker\",\n",
    "        \"model\": \"Pasteroni Pro\",\n",
    "        \"producer\": \"Italiez\",\n",
    "        \"price\": 2500,\n",
    "        \"custom_params\": {\"height\": \"40cm\"}\n",
    "    },\n",
    "]"
   ]
  },
  {
   "cell_type": "code",
   "execution_count": 301,
   "metadata": {},
   "outputs": [],
   "source": [
    "query = \"\"\"\n",
    "    DROP MATERIALIZED VIEW IF EXISTS items_by_price \n",
    "\"\"\"\n",
    "session.execute(query)\n",
    "query = \"\"\"\n",
    "    DROP MATERIALIZED VIEW IF EXISTS items_by_price_and_producer\n",
    "\"\"\"\n",
    "session.execute(query)\n",
    "\n",
    "query = \"\"\"\n",
    "    DROP TABLE IF EXISTS items\n",
    "\"\"\"\n",
    "result = session.execute(query)"
   ]
  },
  {
   "cell_type": "code",
   "execution_count": 302,
   "metadata": {},
   "outputs": [
    {
     "data": {
      "text/plain": [
       "<cassandra.cluster.ResultSet at 0x14990aeb0d0>"
      ]
     },
     "execution_count": 302,
     "metadata": {},
     "output_type": "execute_result"
    }
   ],
   "source": [
    "query = \"\"\"\n",
    "    CREATE TABLE IF NOT EXISTS items (\n",
    "        id UUID,\n",
    "        category text,\n",
    "        model text,\n",
    "        producer text,\n",
    "        price int,\n",
    "        custom_params map<text,text>,\n",
    "        PRIMARY KEY (category, price)\n",
    "    ) WITH CLUSTERING ORDER BY (price ASC);\n",
    "\"\"\"\n",
    "session.execute(query)"
   ]
  },
  {
   "cell_type": "code",
   "execution_count": 303,
   "metadata": {},
   "outputs": [
    {
     "data": {
      "text/plain": [
       "<cassandra.cluster.ResultSet at 0x1498f892250>"
      ]
     },
     "execution_count": 303,
     "metadata": {},
     "output_type": "execute_result"
    }
   ],
   "source": [
    "query = \"\"\"\n",
    "    CREATE INDEX IF NOT EXISTS ON items (ENTRIES(custom_params))\n",
    "\"\"\"\n",
    "session.execute(query)\n",
    "query = \"\"\"\n",
    "    CREATE INDEX IF NOT EXISTS ON items (KEYS(custom_params))\n",
    "\"\"\"\n",
    "session.execute(query)"
   ]
  },
  {
   "cell_type": "code",
   "execution_count": 304,
   "metadata": {},
   "outputs": [],
   "source": [
    "query_with_custom_params = \"\"\"\n",
    "    INSERT INTO items (id, category, model, producer, price, custom_params)\n",
    "    VALUES (%s, %s, %s, %s, %s, %s)\n",
    "\"\"\"\n",
    "query_without_custom_params = \"\"\"\n",
    "    INSERT INTO items (id, category, model, producer, price)\n",
    "    VALUES (%s, %s, %s, %s, %s)\n",
    "\"\"\""
   ]
  },
  {
   "cell_type": "code",
   "execution_count": 305,
   "metadata": {},
   "outputs": [],
   "source": [
    "for item in items:\n",
    "    if 'custom_params' in item:\n",
    "        session.execute(query_with_custom_params, (uuid.uuid1(), *item.values()))\n",
    "    else:\n",
    "        session.execute(query_without_custom_params, (uuid.uuid1(), *item.values()))"
   ]
  },
  {
   "cell_type": "code",
   "execution_count": 306,
   "metadata": {},
   "outputs": [],
   "source": [
    "query = \"\"\"\n",
    "    DESCRIBE table items\n",
    "\"\"\"\n",
    "result = session.execute(query)"
   ]
  },
  {
   "cell_type": "code",
   "execution_count": 307,
   "metadata": {},
   "outputs": [
    {
     "name": "stdout",
     "output_type": "stream",
     "text": [
      "Row(keyspace_name='test_keyspace', type='table', name='items', create_statement=\"CREATE TABLE test_keyspace.items (\\n    category text,\\n    price int,\\n    id uuid,\\n    model text,\\n    producer text,\\n    custom_params map<text, text>,\\n    PRIMARY KEY (category, price)\\n) WITH CLUSTERING ORDER BY (price ASC)\\n    AND additional_write_policy = '99p'\\n    AND bloom_filter_fp_chance = 0.01\\n    AND caching = {'keys': 'ALL', 'rows_per_partition': 'NONE'}\\n    AND cdc = false\\n    AND comment = ''\\n    AND compaction = {'class': 'org.apache.cassandra.db.compaction.SizeTieredCompactionStrategy', 'max_threshold': '32', 'min_threshold': '4'}\\n    AND compression = {'chunk_length_in_kb': '16', 'class': 'org.apache.cassandra.io.compress.LZ4Compressor'}\\n    AND memtable = 'default'\\n    AND crc_check_chance = 1.0\\n    AND default_time_to_live = 0\\n    AND extensions = {}\\n    AND gc_grace_seconds = 864000\\n    AND max_index_interval = 2048\\n    AND memtable_flush_period_in_ms = 0\\n    AND min_index_interval = 128\\n    AND read_repair = 'BLOCKING'\\n    AND speculative_retry = '99p';\")\n",
      "Row(keyspace_name='test_keyspace', type='index', name='items_custom_params_idx', create_statement='CREATE INDEX items_custom_params_idx ON test_keyspace.items (entries(custom_params));')\n",
      "Row(keyspace_name='test_keyspace', type='index', name='items_custom_params_idx_1', create_statement='CREATE INDEX items_custom_params_idx_1 ON test_keyspace.items (keys(custom_params));')\n"
     ]
    }
   ],
   "source": [
    "for row in result.all():\n",
    "    print(row)"
   ]
  },
  {
   "cell_type": "code",
   "execution_count": 308,
   "metadata": {},
   "outputs": [],
   "source": [
    "query = \"\"\"\n",
    "    select * \n",
    "    from items\n",
    "    where category = 'Phone'\n",
    "    order by price\n",
    "\"\"\"\n",
    "result = session.execute(query)"
   ]
  },
  {
   "cell_type": "code",
   "execution_count": 309,
   "metadata": {},
   "outputs": [
    {
     "name": "stdout",
     "output_type": "stream",
     "text": [
      "Row(category='Phone', price=1000, custom_params=None, id=UUID('f1b2c097-dddb-11ee-845d-1062e54e838c'), model='iPhone 12', producer='Apple')\n",
      "Row(category='Phone', price=1150, custom_params=None, id=UUID('f1b3861b-dddb-11ee-8604-1062e54e838c'), model='Galaxy S26', producer='Samsung')\n",
      "Row(category='Phone', price=1200, custom_params=None, id=UUID('f1b17adc-dddb-11ee-b6a4-1062e54e838c'), model='iPhone 13', producer='Apple')\n"
     ]
    }
   ],
   "source": [
    "for row in result.all():\n",
    "    print(row)"
   ]
  },
  {
   "cell_type": "code",
   "execution_count": 310,
   "metadata": {},
   "outputs": [
    {
     "data": {
      "text/plain": [
       "<cassandra.cluster.ResultSet at 0x1498f7e5c10>"
      ]
     },
     "execution_count": 310,
     "metadata": {},
     "output_type": "execute_result"
    }
   ],
   "source": [
    "query = \"\"\"\n",
    "    CREATE INDEX IF NOT EXISTS ON items (model)\n",
    "\"\"\"\n",
    "session.execute(query)"
   ]
  },
  {
   "cell_type": "code",
   "execution_count": 313,
   "metadata": {},
   "outputs": [],
   "source": [
    "query = \"\"\"\n",
    "    select * \n",
    "    from items\n",
    "    where model = 'Galaxy S26' \n",
    "\"\"\"\n",
    "result = session.execute(query)"
   ]
  },
  {
   "cell_type": "code",
   "execution_count": 314,
   "metadata": {},
   "outputs": [
    {
     "name": "stdout",
     "output_type": "stream",
     "text": [
      "Row(category='Phone', price=1150, custom_params=None, id=UUID('f1b3861b-dddb-11ee-8604-1062e54e838c'), model='Galaxy S26', producer='Samsung')\n"
     ]
    }
   ],
   "source": [
    "for row in result.all():\n",
    "    print(row)"
   ]
  },
  {
   "cell_type": "code",
   "execution_count": 315,
   "metadata": {},
   "outputs": [],
   "source": [
    "query = \"\"\"\n",
    "    DROP MATERIALIZED VIEW IF EXISTS items_by_price \n",
    "\"\"\"\n",
    "session.execute(query)\n",
    "\n",
    "query = \"\"\"\n",
    "    CREATE MATERIALIZED VIEW items_by_price \n",
    "    AS SELECT * \n",
    "    FROM items \n",
    "    WHERE price >= 1000 and price <= 1500 and category is not null and id is not null\n",
    "    PRIMARY KEY (category, price, id)\n",
    "\"\"\"\n",
    "result = session.execute(query)"
   ]
  },
  {
   "cell_type": "code",
   "execution_count": 316,
   "metadata": {},
   "outputs": [],
   "source": [
    "query = \"\"\"\n",
    "    select * \n",
    "    from items_by_price\n",
    "\"\"\"\n",
    "result = session.execute(query)"
   ]
  },
  {
   "cell_type": "code",
   "execution_count": 317,
   "metadata": {},
   "outputs": [
    {
     "name": "stdout",
     "output_type": "stream",
     "text": [
      "Row(category='Phone', price=1000, id=UUID('f1b2c097-dddb-11ee-845d-1062e54e838c'), custom_params=None, model='iPhone 12', producer='Apple')\n",
      "Row(category='Phone', price=1150, id=UUID('f1b3861b-dddb-11ee-8604-1062e54e838c'), custom_params=None, model='Galaxy S26', producer='Samsung')\n",
      "Row(category='Phone', price=1200, id=UUID('f1b17adc-dddb-11ee-b6a4-1062e54e838c'), custom_params=None, model='iPhone 13', producer='Apple')\n",
      "Row(category='TV', price=1200, id=UUID('f1b449f2-dddb-11ee-be16-1062e54e838c'), custom_params=OrderedMapSerializedKey([('sub_category', 'Smart TV')]), model='SmartTV v4.2', producer='Samsung')\n"
     ]
    }
   ],
   "source": [
    "for row in result.all():\n",
    "    print(row)"
   ]
  },
  {
   "cell_type": "code",
   "execution_count": 318,
   "metadata": {},
   "outputs": [
    {
     "data": {
      "text/plain": [
       "<cassandra.cluster.ResultSet at 0x1498f93feb0>"
      ]
     },
     "execution_count": 318,
     "metadata": {},
     "output_type": "execute_result"
    }
   ],
   "source": [
    "query = \"\"\"\n",
    "    CREATE INDEX IF NOT EXISTS ON items (price)\n",
    "\"\"\"\n",
    "session.execute(query)"
   ]
  },
  {
   "cell_type": "code",
   "execution_count": 319,
   "metadata": {},
   "outputs": [],
   "source": [
    "query = \"\"\"\n",
    "    select * \n",
    "    from items\n",
    "    where price = 1000\n",
    "\"\"\"\n",
    "result = session.execute(query)"
   ]
  },
  {
   "cell_type": "code",
   "execution_count": 320,
   "metadata": {},
   "outputs": [],
   "source": [
    "query = \"\"\"\n",
    "    DROP MATERIALIZED VIEW IF EXISTS items_by_price_and_producer \n",
    "\"\"\"\n",
    "session.execute(query)\n",
    "\n",
    "query = \"\"\"\n",
    "    CREATE MATERIALIZED VIEW items_by_price_and_producer \n",
    "    AS SELECT * \n",
    "    FROM items \n",
    "    WHERE price is not null and category is not null and producer is not null\n",
    "    PRIMARY KEY ((price, producer), category)\n",
    "\"\"\"\n",
    "result = session.execute(query)"
   ]
  },
  {
   "cell_type": "code",
   "execution_count": 321,
   "metadata": {},
   "outputs": [],
   "source": [
    "query = \"\"\"\n",
    "    select * \n",
    "    from items_by_price_and_producer\n",
    "    where price = 1000 and producer = 'Apple'\n",
    "\"\"\"\n",
    "result = session.execute(query)"
   ]
  },
  {
   "cell_type": "code",
   "execution_count": 322,
   "metadata": {},
   "outputs": [
    {
     "name": "stdout",
     "output_type": "stream",
     "text": [
      "Row(price=1000, producer='Apple', category='Phone', custom_params=None, id=UUID('f1b2c097-dddb-11ee-845d-1062e54e838c'), model='iPhone 12')\n"
     ]
    }
   ],
   "source": [
    "for row in result.all():\n",
    "    print(row)"
   ]
  },
  {
   "cell_type": "code",
   "execution_count": 323,
   "metadata": {},
   "outputs": [],
   "source": [
    "query = \"\"\"\n",
    "    select * \n",
    "    from items\n",
    "    where custom_params CONTAINS KEY 'max_discount'\n",
    "\"\"\"\n",
    "result = session.execute(query)"
   ]
  },
  {
   "cell_type": "code",
   "execution_count": 324,
   "metadata": {},
   "outputs": [
    {
     "name": "stdout",
     "output_type": "stream",
     "text": [
      "Row(category='TV', price=2000, custom_params=OrderedMapSerializedKey([('max_discount', '25%')]), id=UUID('f1b6d06a-dddb-11ee-ab99-1062e54e838c'), model='Gigantic 1000', producer='Spacio')\n"
     ]
    }
   ],
   "source": [
    "for row in result.all():\n",
    "    print(row)"
   ]
  },
  {
   "cell_type": "code",
   "execution_count": 325,
   "metadata": {},
   "outputs": [],
   "source": [
    "query = \"\"\"\n",
    "    select * \n",
    "    from items\n",
    "    where custom_params['max_discount'] = '25%'\n",
    "\"\"\"\n",
    "result = session.execute(query)"
   ]
  },
  {
   "cell_type": "code",
   "execution_count": 326,
   "metadata": {},
   "outputs": [
    {
     "name": "stdout",
     "output_type": "stream",
     "text": [
      "Row(category='TV', price=2000, custom_params=OrderedMapSerializedKey([('max_discount', '25%')]), id=UUID('f1b6d06a-dddb-11ee-ab99-1062e54e838c'), model='Gigantic 1000', producer='Spacio')\n"
     ]
    }
   ],
   "source": [
    "for row in result.all():\n",
    "    print(row)"
   ]
  },
  {
   "cell_type": "code",
   "execution_count": 329,
   "metadata": {},
   "outputs": [],
   "source": [
    "query = \"\"\"\n",
    "    UPDATE items\n",
    "    set custom_params['max_discount'] = '30%'\n",
    "    where category = 'TV' and price = 2000\n",
    "\"\"\"\n",
    "result = session.execute(query)"
   ]
  },
  {
   "cell_type": "code",
   "execution_count": 335,
   "metadata": {},
   "outputs": [],
   "source": [
    "query = \"\"\"\n",
    "    select * \n",
    "    from items\n",
    "    where category = 'TV' and price = 2000\n",
    "\"\"\"\n",
    "result = session.execute(query)"
   ]
  },
  {
   "cell_type": "code",
   "execution_count": 336,
   "metadata": {},
   "outputs": [
    {
     "name": "stdout",
     "output_type": "stream",
     "text": [
      "Row(category='TV', price=2000, custom_params=OrderedMapSerializedKey([('max_discount', '30%'), ('min_discount', '10%')]), id=UUID('f1b6d06a-dddb-11ee-ab99-1062e54e838c'), model='Gigantic 1000', producer='Spacio')\n"
     ]
    }
   ],
   "source": [
    "for row in result.all():\n",
    "    print(row)"
   ]
  },
  {
   "cell_type": "code",
   "execution_count": 341,
   "metadata": {},
   "outputs": [],
   "source": [
    "query = \"\"\"\n",
    "    UPDATE items\n",
    "    set custom_params['min_discount'] = '10%'\n",
    "    where category = 'TV' and price = 2000\n",
    "\"\"\"\n",
    "result = session.execute(query)"
   ]
  },
  {
   "cell_type": "code",
   "execution_count": 343,
   "metadata": {},
   "outputs": [],
   "source": [
    "query = \"\"\"\n",
    "    select * \n",
    "    from items\n",
    "    where category = 'TV' and price = 2000\n",
    "\"\"\"\n",
    "result = session.execute(query)"
   ]
  },
  {
   "cell_type": "code",
   "execution_count": 344,
   "metadata": {},
   "outputs": [
    {
     "name": "stdout",
     "output_type": "stream",
     "text": [
      "Row(category='TV', price=2000, custom_params=OrderedMapSerializedKey([('max_discount', '30%'), ('min_discount', '10%')]), id=UUID('f1b6d06a-dddb-11ee-ab99-1062e54e838c'), model='Gigantic 1000', producer='Spacio')\n"
     ]
    }
   ],
   "source": [
    "for row in result.all():\n",
    "    print(row)"
   ]
  },
  {
   "cell_type": "code",
   "execution_count": 345,
   "metadata": {},
   "outputs": [],
   "source": [
    "query = \"\"\"\n",
    "    DELETE custom_params['min_discount']\n",
    "    from items\n",
    "    where category = 'TV' and price = 2000\n",
    "\"\"\"\n",
    "result = session.execute(query)"
   ]
  },
  {
   "cell_type": "code",
   "execution_count": 346,
   "metadata": {},
   "outputs": [],
   "source": [
    "query = \"\"\"\n",
    "    select * \n",
    "    from items\n",
    "    where category = 'TV' and price = 2000\n",
    "\"\"\"\n",
    "result = session.execute(query)"
   ]
  },
  {
   "cell_type": "code",
   "execution_count": 347,
   "metadata": {},
   "outputs": [
    {
     "name": "stdout",
     "output_type": "stream",
     "text": [
      "Row(category='TV', price=2000, custom_params=OrderedMapSerializedKey([('max_discount', '30%')]), id=UUID('f1b6d06a-dddb-11ee-ab99-1062e54e838c'), model='Gigantic 1000', producer='Spacio')\n"
     ]
    }
   ],
   "source": [
    "for row in result.all():\n",
    "    print(row)"
   ]
  },
  {
   "cell_type": "code",
   "execution_count": 351,
   "metadata": {},
   "outputs": [
    {
     "name": "stdout",
     "output_type": "stream",
     "text": [
      "Row(category='Phone', price=1000, custom_params=None, id=UUID('f1b2c097-dddb-11ee-845d-1062e54e838c'), model='iPhone 12', producer='Apple')\n",
      "Row(category='Phone', price=1150, custom_params=None, id=UUID('f1b3861b-dddb-11ee-8604-1062e54e838c'), model='Galaxy S26', producer='Samsung')\n",
      "Row(category='Phone', price=1200, custom_params=None, id=UUID('f1b17adc-dddb-11ee-b6a4-1062e54e838c'), model='iPhone 13', producer='Apple')\n",
      "Row(category='TV', price=1200, custom_params=OrderedMapSerializedKey([('sub_category', 'Smart TV')]), id=UUID('f1b449f2-dddb-11ee-be16-1062e54e838c'), model='SmartTV v4.2', producer='Samsung')\n",
      "Row(category='TV', price=2000, custom_params=OrderedMapSerializedKey([('max_discount', '30%')]), id=UUID('f1b6d06a-dddb-11ee-ab99-1062e54e838c'), model='Gigantic 1000', producer='Spacio')\n",
      "Row(category='Cooker', price=2000, custom_params=OrderedMapSerializedKey([('height', '38cm')]), id=UUID('f1b79404-dddb-11ee-b0a5-1062e54e838c'), model='Pasteroni', producer='Italiez')\n",
      "Row(category='Cooker', price=2500, custom_params=OrderedMapSerializedKey([('height', '40cm')]), id=UUID('f1b858f3-dddb-11ee-8b0d-1062e54e838c'), model='Pasteroni Pro', producer='Italiez')\n"
     ]
    }
   ],
   "source": [
    "query = \"\"\"\n",
    "    select * \n",
    "    from items\n",
    "\"\"\"\n",
    "result = session.execute(query)\n",
    "for row in result.all():\n",
    "    print(row)"
   ]
  },
  {
   "cell_type": "code",
   "execution_count": 361,
   "metadata": {},
   "outputs": [],
   "source": [
    "orders = [\n",
    "    {\n",
    "        \"date\": datetime.today().date(),\n",
    "        \"total_sum\": 2300,\n",
    "        \"customer_name\": \"Mike Wazowsky\",\n",
    "        \"items_id\" : [uuid.UUID(\"f1b2c097-dddb-11ee-845d-1062e54e838c\"), uuid.UUID(\"f1b3861b-dddb-11ee-8604-1062e54e838c\")]\n",
    "    },\n",
    "    {\n",
    "        \"date\": datetime.today().date() - timedelta(days=1),\n",
    "        \"total_sum\": 5900,\n",
    "        \"customer_name\" : \"Mike Wazowsky\",\n",
    "        \"items_id\" : [uuid.UUID(\"f1b2c097-dddb-11ee-845d-1062e54e838c\"), uuid.UUID(\"f1b17adc-dddb-11ee-b6a4-1062e54e838c\")]\n",
    "    },\n",
    "    {\n",
    "        \"date\": datetime.today().date() - timedelta(days=3),\n",
    "        \"total_sum\": 5900,\n",
    "        \"customer_name\": \"James Sullivan\",\n",
    "        \"items_id\" : [uuid.UUID(\"f1b449f2-dddb-11ee-be16-1062e54e838c\")]\n",
    "    },\n",
    "    {\n",
    "        \"date\": datetime.today().date() - timedelta(days=5),\n",
    "        \"total_sum\": 4200,\n",
    "        \"customer_name\" :  \"Randall Boggs\",\n",
    "        \"items_id\" : [uuid.UUID(\"f1b6d06a-dddb-11ee-ab99-1062e54e838c\")]\n",
    "    },\n",
    "]"
   ]
  },
  {
   "cell_type": "code",
   "execution_count": 489,
   "metadata": {},
   "outputs": [],
   "source": [
    "\n",
    "query = \"\"\"\n",
    "    DROP TABLE IF EXISTS orders\n",
    "\"\"\"\n",
    "result = session.execute(query)"
   ]
  },
  {
   "cell_type": "code",
   "execution_count": 490,
   "metadata": {},
   "outputs": [
    {
     "data": {
      "text/plain": [
       "<cassandra.cluster.ResultSet at 0x1498f1e1a00>"
      ]
     },
     "execution_count": 490,
     "metadata": {},
     "output_type": "execute_result"
    }
   ],
   "source": [
    "\n",
    "query = \"\"\"\n",
    "    CREATE TABLE IF NOT EXISTS orders (\n",
    "        id UUID,\n",
    "        date date,\n",
    "        total_sum int,\n",
    "        customer_name text,\n",
    "        items_id list<UUID>,\n",
    "        PRIMARY KEY (customer_name, date)\n",
    "    );\n",
    "\"\"\"\n",
    "session.execute(query)"
   ]
  },
  {
   "cell_type": "code",
   "execution_count": 491,
   "metadata": {},
   "outputs": [],
   "source": [
    "query = \"\"\"\n",
    "    INSERT INTO orders (id, date, total_sum, customer_name, items_id)\n",
    "    VALUES (%s, %s, %s, %s, %s)\n",
    "\"\"\"\n",
    "for order in orders:\n",
    "    session.execute(query, (uuid.uuid1(), *order.values()))"
   ]
  },
  {
   "cell_type": "code",
   "execution_count": 492,
   "metadata": {},
   "outputs": [],
   "source": [
    "query = \"\"\"\n",
    "    DESCRIBE table orders\n",
    "\"\"\"\n",
    "result = session.execute(query)"
   ]
  },
  {
   "cell_type": "code",
   "execution_count": 493,
   "metadata": {},
   "outputs": [
    {
     "name": "stdout",
     "output_type": "stream",
     "text": [
      "Row(keyspace_name='test_keyspace', type='table', name='orders', create_statement=\"CREATE TABLE test_keyspace.orders (\\n    customer_name text,\\n    date date,\\n    id uuid,\\n    total_sum int,\\n    items_id list<uuid>,\\n    PRIMARY KEY (customer_name, date)\\n) WITH CLUSTERING ORDER BY (date ASC)\\n    AND additional_write_policy = '99p'\\n    AND bloom_filter_fp_chance = 0.01\\n    AND caching = {'keys': 'ALL', 'rows_per_partition': 'NONE'}\\n    AND cdc = false\\n    AND comment = ''\\n    AND compaction = {'class': 'org.apache.cassandra.db.compaction.SizeTieredCompactionStrategy', 'max_threshold': '32', 'min_threshold': '4'}\\n    AND compression = {'chunk_length_in_kb': '16', 'class': 'org.apache.cassandra.io.compress.LZ4Compressor'}\\n    AND memtable = 'default'\\n    AND crc_check_chance = 1.0\\n    AND default_time_to_live = 0\\n    AND extensions = {}\\n    AND gc_grace_seconds = 864000\\n    AND max_index_interval = 2048\\n    AND memtable_flush_period_in_ms = 0\\n    AND min_index_interval = 128\\n    AND read_repair = 'BLOCKING'\\n    AND speculative_retry = '99p';\")\n"
     ]
    }
   ],
   "source": [
    "for row in result.all():\n",
    "    print(row)"
   ]
  },
  {
   "cell_type": "code",
   "execution_count": 494,
   "metadata": {},
   "outputs": [],
   "source": [
    "query = \"\"\"\n",
    "    SELECT *\n",
    "    FROM orders\n",
    "    where customer_name = 'Mike Wazowsky'\n",
    "    order by date\n",
    "\"\"\"\n",
    "result = session.execute(query)"
   ]
  },
  {
   "cell_type": "code",
   "execution_count": 495,
   "metadata": {},
   "outputs": [
    {
     "name": "stdout",
     "output_type": "stream",
     "text": [
      "Row(customer_name='Mike Wazowsky', date=Date(19790), id=UUID('b365928a-ddef-11ee-8938-1062e54e838c'), items_id=[UUID('f1b2c097-dddb-11ee-845d-1062e54e838c'), UUID('f1b17adc-dddb-11ee-b6a4-1062e54e838c')], total_sum=5900)\n",
      "Row(customer_name='Mike Wazowsky', date=Date(19791), id=UUID('b363e361-ddef-11ee-906d-1062e54e838c'), items_id=[UUID('f1b2c097-dddb-11ee-845d-1062e54e838c'), UUID('f1b3861b-dddb-11ee-8604-1062e54e838c')], total_sum=2300)\n"
     ]
    }
   ],
   "source": [
    "for row in result.all():\n",
    "    print(row)"
   ]
  },
  {
   "cell_type": "code",
   "execution_count": 496,
   "metadata": {},
   "outputs": [
    {
     "data": {
      "text/plain": [
       "<cassandra.cluster.ResultSet at 0x1498f614580>"
      ]
     },
     "execution_count": 496,
     "metadata": {},
     "output_type": "execute_result"
    }
   ],
   "source": [
    "query = \"\"\"\n",
    "    CREATE INDEX IF NOT EXISTS ON orders (items_id)\n",
    "\"\"\"\n",
    "session.execute(query)"
   ]
  },
  {
   "cell_type": "code",
   "execution_count": 497,
   "metadata": {},
   "outputs": [],
   "source": [
    "query = \"\"\"\n",
    "    SELECT *\n",
    "    FROM orders\n",
    "    where customer_name = 'Mike Wazowsky' and items_id CONTAINS f1b17adc-dddb-11ee-b6a4-1062e54e838c\n",
    "\"\"\"\n",
    "result = session.execute(query)"
   ]
  },
  {
   "cell_type": "code",
   "execution_count": 498,
   "metadata": {},
   "outputs": [
    {
     "name": "stdout",
     "output_type": "stream",
     "text": [
      "Row(customer_name='Mike Wazowsky', date=Date(19790), id=UUID('b365928a-ddef-11ee-8938-1062e54e838c'), items_id=[UUID('f1b2c097-dddb-11ee-845d-1062e54e838c'), UUID('f1b17adc-dddb-11ee-b6a4-1062e54e838c')], total_sum=5900)\n"
     ]
    }
   ],
   "source": [
    "for row in result.all():\n",
    "    print(row)"
   ]
  },
  {
   "cell_type": "code",
   "execution_count": 499,
   "metadata": {},
   "outputs": [],
   "source": [
    "query = \"\"\"\n",
    "    SELECT *\n",
    "    FROM orders\n",
    "    where customer_name = 'Mike Wazowsky' and date >= '2024-03-01' and date <= '2024-03-08'\n",
    "    order by date\n",
    "\"\"\"\n",
    "result = session.execute(query)"
   ]
  },
  {
   "cell_type": "code",
   "execution_count": 500,
   "metadata": {},
   "outputs": [
    {
     "name": "stdout",
     "output_type": "stream",
     "text": [
      "Row(customer_name='Mike Wazowsky', date=Date(19790), id=UUID('b365928a-ddef-11ee-8938-1062e54e838c'), items_id=[UUID('f1b2c097-dddb-11ee-845d-1062e54e838c'), UUID('f1b17adc-dddb-11ee-b6a4-1062e54e838c')], total_sum=5900)\n"
     ]
    }
   ],
   "source": [
    "for row in result.all():\n",
    "    print(row)"
   ]
  },
  {
   "cell_type": "code",
   "execution_count": 501,
   "metadata": {},
   "outputs": [],
   "source": [
    "query = \"\"\"\n",
    "    SELECT count(*)\n",
    "    FROM orders\n",
    "    where customer_name = 'Mike Wazowsky' and date >= '2024-03-01' and date <= '2024-03-08'\n",
    "    order by date\n",
    "\"\"\"\n",
    "result = session.execute(query)"
   ]
  },
  {
   "cell_type": "code",
   "execution_count": 502,
   "metadata": {},
   "outputs": [
    {
     "name": "stdout",
     "output_type": "stream",
     "text": [
      "Row(count=1)\n"
     ]
    }
   ],
   "source": [
    "for row in result.all():\n",
    "    print(row)"
   ]
  },
  {
   "cell_type": "code",
   "execution_count": 503,
   "metadata": {},
   "outputs": [],
   "source": [
    "query = \"\"\"\n",
    "    SELECT customer_name, sum(total_sum)\n",
    "    FROM orders\n",
    "    GROUP BY customer_name\n",
    "\"\"\"\n",
    "result = session.execute(query)"
   ]
  },
  {
   "cell_type": "code",
   "execution_count": 504,
   "metadata": {},
   "outputs": [
    {
     "name": "stdout",
     "output_type": "stream",
     "text": [
      "Row(customer_name='Mike Wazowsky', system_sum_total_sum=8200)\n",
      "Row(customer_name='James Sullivan', system_sum_total_sum=5900)\n",
      "Row(customer_name='Randall Boggs', system_sum_total_sum=4200)\n"
     ]
    }
   ],
   "source": [
    "for row in result.all():\n",
    "    print(row)"
   ]
  },
  {
   "cell_type": "code",
   "execution_count": 505,
   "metadata": {},
   "outputs": [],
   "source": [
    "query = \"\"\"\n",
    "    SELECT customer_name, id, max(total_sum)\n",
    "    FROM orders\n",
    "    GROUP BY customer_name\n",
    "\"\"\"\n",
    "result = session.execute(query)"
   ]
  },
  {
   "cell_type": "code",
   "execution_count": 506,
   "metadata": {},
   "outputs": [
    {
     "name": "stdout",
     "output_type": "stream",
     "text": [
      "Row(customer_name='Mike Wazowsky', id=UUID('b365928a-ddef-11ee-8938-1062e54e838c'), system_max_total_sum=5900)\n",
      "Row(customer_name='James Sullivan', id=UUID('b3663894-ddef-11ee-8d89-1062e54e838c'), system_max_total_sum=5900)\n",
      "Row(customer_name='Randall Boggs', id=UUID('b3670fbe-ddef-11ee-a27a-1062e54e838c'), system_max_total_sum=4200)\n"
     ]
    }
   ],
   "source": [
    "for row in result.all():\n",
    "    print(row)"
   ]
  },
  {
   "cell_type": "code",
   "execution_count": 507,
   "metadata": {},
   "outputs": [],
   "source": [
    "query = \"\"\"\n",
    "    UPDATE orders\n",
    "    set items_id = [f1b449f2-dddb-11ee-be16-1062e54e838c] + items_id,\n",
    "    total_sum = 4200 + 1200\n",
    "    where customer_name = 'Randall Boggs' and date = '2024-03-04'\n",
    "\"\"\"\n",
    "result = session.execute(query)"
   ]
  },
  {
   "cell_type": "code",
   "execution_count": 508,
   "metadata": {},
   "outputs": [],
   "source": [
    "query = \"\"\"\n",
    "    SELECT *\n",
    "    FROM orders\n",
    "    where customer_name = 'Randall Boggs'\n",
    "\"\"\"\n",
    "result = session.execute(query)"
   ]
  },
  {
   "cell_type": "code",
   "execution_count": 509,
   "metadata": {},
   "outputs": [
    {
     "name": "stdout",
     "output_type": "stream",
     "text": [
      "Row(customer_name='Randall Boggs', date=Date(19786), id=UUID('b3670fbe-ddef-11ee-a27a-1062e54e838c'), items_id=[UUID('f1b449f2-dddb-11ee-be16-1062e54e838c'), UUID('f1b6d06a-dddb-11ee-ab99-1062e54e838c')], total_sum=5400)\n"
     ]
    }
   ],
   "source": [
    "for row in result.all():\n",
    "    print(row)"
   ]
  },
  {
   "cell_type": "code",
   "execution_count": 512,
   "metadata": {},
   "outputs": [],
   "source": [
    "query = \"\"\"\n",
    "    SELECT id, WRITETIME(total_sum)\n",
    "    FROM orders\n",
    "\"\"\"\n",
    "result = session.execute(query)"
   ]
  },
  {
   "cell_type": "code",
   "execution_count": 513,
   "metadata": {},
   "outputs": [
    {
     "name": "stdout",
     "output_type": "stream",
     "text": [
      "Row(id=UUID('b365928a-ddef-11ee-8938-1062e54e838c'), writetime_total_sum=1709973207176462)\n",
      "Row(id=UUID('b363e361-ddef-11ee-906d-1062e54e838c'), writetime_total_sum=1709973207165424)\n",
      "Row(id=UUID('b3663894-ddef-11ee-8d89-1062e54e838c'), writetime_total_sum=1709973207180712)\n",
      "Row(id=UUID('b3670fbe-ddef-11ee-a27a-1062e54e838c'), writetime_total_sum=1709973217868573)\n"
     ]
    }
   ],
   "source": [
    "for row in result.all():\n",
    "    print(row)"
   ]
  },
  {
   "cell_type": "code",
   "execution_count": 514,
   "metadata": {},
   "outputs": [],
   "source": [
    "order = {\n",
    "    \"date\": datetime.today().date() - timedelta(days=2),\n",
    "    \"total_sum\": 2500,\n",
    "    \"customer_name\" :  \"Randall Boggs\",\n",
    "    \"items_id\" : [uuid.UUID(\"f1b858f3-dddb-11ee-8b0d-1062e54e838c\")]\n",
    "}"
   ]
  },
  {
   "cell_type": "code",
   "execution_count": 515,
   "metadata": {},
   "outputs": [
    {
     "data": {
      "text/plain": [
       "<cassandra.cluster.ResultSet at 0x1498f93f400>"
      ]
     },
     "execution_count": 515,
     "metadata": {},
     "output_type": "execute_result"
    }
   ],
   "source": [
    "query = \"\"\"\n",
    "    INSERT INTO orders (id, date, total_sum, customer_name, items_id)\n",
    "    VALUES (%s, %s, %s, %s, %s)\n",
    "    USING TTL 86400\n",
    "\"\"\"\n",
    "session.execute(query, (uuid.uuid1(), *order.values()))"
   ]
  },
  {
   "cell_type": "code",
   "execution_count": 516,
   "metadata": {},
   "outputs": [],
   "source": [
    "query = \"\"\"\n",
    "    SELECT *\n",
    "    FROM orders\n",
    "\"\"\"\n",
    "result = session.execute(query)"
   ]
  },
  {
   "cell_type": "code",
   "execution_count": 517,
   "metadata": {},
   "outputs": [
    {
     "name": "stdout",
     "output_type": "stream",
     "text": [
      "Row(customer_name='Mike Wazowsky', date=Date(19790), id=UUID('b365928a-ddef-11ee-8938-1062e54e838c'), items_id=[UUID('f1b2c097-dddb-11ee-845d-1062e54e838c'), UUID('f1b17adc-dddb-11ee-b6a4-1062e54e838c')], total_sum=5900)\n",
      "Row(customer_name='Mike Wazowsky', date=Date(19791), id=UUID('b363e361-ddef-11ee-906d-1062e54e838c'), items_id=[UUID('f1b2c097-dddb-11ee-845d-1062e54e838c'), UUID('f1b3861b-dddb-11ee-8604-1062e54e838c')], total_sum=2300)\n",
      "Row(customer_name='James Sullivan', date=Date(19788), id=UUID('b3663894-ddef-11ee-8d89-1062e54e838c'), items_id=[UUID('f1b449f2-dddb-11ee-be16-1062e54e838c')], total_sum=5900)\n",
      "Row(customer_name='Randall Boggs', date=Date(19786), id=UUID('b3670fbe-ddef-11ee-a27a-1062e54e838c'), items_id=[UUID('f1b449f2-dddb-11ee-be16-1062e54e838c'), UUID('f1b6d06a-dddb-11ee-ab99-1062e54e838c')], total_sum=5400)\n",
      "Row(customer_name='Randall Boggs', date=Date(19789), id=UUID('2ad9a39d-ddf0-11ee-bddb-1062e54e838c'), items_id=[UUID('f1b858f3-dddb-11ee-8b0d-1062e54e838c')], total_sum=2500)\n"
     ]
    }
   ],
   "source": [
    "for row in result.all():\n",
    "    print(row)"
   ]
  },
  {
   "cell_type": "code",
   "execution_count": 518,
   "metadata": {},
   "outputs": [],
   "source": [
    "query = \"\"\"\n",
    "    SELECT json *\n",
    "    FROM orders\n",
    "\"\"\"\n",
    "result = session.execute(query)"
   ]
  },
  {
   "cell_type": "code",
   "execution_count": 519,
   "metadata": {},
   "outputs": [
    {
     "name": "stdout",
     "output_type": "stream",
     "text": [
      "Row(json='{\"customer_name\": \"Mike Wazowsky\", \"date\": \"2024-03-08\", \"id\": \"b365928a-ddef-11ee-8938-1062e54e838c\", \"items_id\": [\"f1b2c097-dddb-11ee-845d-1062e54e838c\", \"f1b17adc-dddb-11ee-b6a4-1062e54e838c\"], \"total_sum\": 5900}')\n",
      "Row(json='{\"customer_name\": \"Mike Wazowsky\", \"date\": \"2024-03-09\", \"id\": \"b363e361-ddef-11ee-906d-1062e54e838c\", \"items_id\": [\"f1b2c097-dddb-11ee-845d-1062e54e838c\", \"f1b3861b-dddb-11ee-8604-1062e54e838c\"], \"total_sum\": 2300}')\n",
      "Row(json='{\"customer_name\": \"James Sullivan\", \"date\": \"2024-03-06\", \"id\": \"b3663894-ddef-11ee-8d89-1062e54e838c\", \"items_id\": [\"f1b449f2-dddb-11ee-be16-1062e54e838c\"], \"total_sum\": 5900}')\n",
      "Row(json='{\"customer_name\": \"Randall Boggs\", \"date\": \"2024-03-04\", \"id\": \"b3670fbe-ddef-11ee-a27a-1062e54e838c\", \"items_id\": [\"f1b449f2-dddb-11ee-be16-1062e54e838c\", \"f1b6d06a-dddb-11ee-ab99-1062e54e838c\"], \"total_sum\": 5400}')\n",
      "Row(json='{\"customer_name\": \"Randall Boggs\", \"date\": \"2024-03-07\", \"id\": \"2ad9a39d-ddf0-11ee-bddb-1062e54e838c\", \"items_id\": [\"f1b858f3-dddb-11ee-8b0d-1062e54e838c\"], \"total_sum\": 2500}')\n"
     ]
    }
   ],
   "source": [
    "for row in result.all():\n",
    "    print(row)"
   ]
  },
  {
   "cell_type": "code",
   "execution_count": 520,
   "metadata": {},
   "outputs": [],
   "source": [
    "import json"
   ]
  },
  {
   "cell_type": "code",
   "execution_count": 536,
   "metadata": {},
   "outputs": [],
   "source": [
    "order = {\n",
    "    \"id\": str(uuid.uuid1()),\n",
    "    \"date\": str(datetime.today().date() - timedelta(days=1)),\n",
    "    \"total_sum\": 2300,\n",
    "    \"customer_name\" :  \"Randall Roggs\",\n",
    "    \"items_id\" : [str(uuid.UUID(\"f1b858f3-dddb-11ee-8b0d-1062e54e838c\"))]\n",
    "}"
   ]
  },
  {
   "cell_type": "code",
   "execution_count": 540,
   "metadata": {},
   "outputs": [
    {
     "data": {
      "text/plain": [
       "<cassandra.cluster.ResultSet at 0x14990b9bca0>"
      ]
     },
     "execution_count": 540,
     "metadata": {},
     "output_type": "execute_result"
    }
   ],
   "source": [
    "query = f\"\"\"\n",
    "    INSERT INTO orders JSON '{json.dumps(order)}'\n",
    "\"\"\"\n",
    "session.execute(query)"
   ]
  },
  {
   "cell_type": "code",
   "execution_count": 541,
   "metadata": {},
   "outputs": [],
   "source": [
    "query = \"\"\"\n",
    "    SELECT json *\n",
    "    FROM orders\n",
    "\"\"\"\n",
    "result = session.execute(query)"
   ]
  },
  {
   "cell_type": "code",
   "execution_count": 542,
   "metadata": {},
   "outputs": [
    {
     "name": "stdout",
     "output_type": "stream",
     "text": [
      "Row(json='{\"customer_name\": \"Mike Wazowsky\", \"date\": \"2024-03-08\", \"id\": \"b365928a-ddef-11ee-8938-1062e54e838c\", \"items_id\": [\"f1b2c097-dddb-11ee-845d-1062e54e838c\", \"f1b17adc-dddb-11ee-b6a4-1062e54e838c\"], \"total_sum\": 5900}')\n",
      "Row(json='{\"customer_name\": \"Mike Wazowsky\", \"date\": \"2024-03-09\", \"id\": \"b363e361-ddef-11ee-906d-1062e54e838c\", \"items_id\": [\"f1b2c097-dddb-11ee-845d-1062e54e838c\", \"f1b3861b-dddb-11ee-8604-1062e54e838c\"], \"total_sum\": 2300}')\n",
      "Row(json='{\"customer_name\": \"James Sullivan\", \"date\": \"2024-03-06\", \"id\": \"b3663894-ddef-11ee-8d89-1062e54e838c\", \"items_id\": [\"f1b449f2-dddb-11ee-be16-1062e54e838c\"], \"total_sum\": 5900}')\n",
      "Row(json='{\"customer_name\": \"Randall Roggs\", \"date\": \"2024-03-08\", \"id\": \"fdf658a9-ddf0-11ee-88c5-1062e54e838c\", \"items_id\": [\"f1b858f3-dddb-11ee-8b0d-1062e54e838c\"], \"total_sum\": 2300}')\n",
      "Row(json='{\"customer_name\": \"Randall Boggs\", \"date\": \"2024-03-04\", \"id\": \"b3670fbe-ddef-11ee-a27a-1062e54e838c\", \"items_id\": [\"f1b449f2-dddb-11ee-be16-1062e54e838c\", \"f1b6d06a-dddb-11ee-ab99-1062e54e838c\"], \"total_sum\": 5400}')\n",
      "Row(json='{\"customer_name\": \"Randall Boggs\", \"date\": \"2024-03-07\", \"id\": \"2ad9a39d-ddf0-11ee-bddb-1062e54e838c\", \"items_id\": [\"f1b858f3-dddb-11ee-8b0d-1062e54e838c\"], \"total_sum\": 2500}')\n"
     ]
    }
   ],
   "source": [
    "for row in result.all():\n",
    "    print(row)"
   ]
  },
  {
   "cell_type": "code",
   "execution_count": null,
   "metadata": {},
   "outputs": [],
   "source": []
  }
 ],
 "metadata": {
  "kernelspec": {
   "display_name": ".venv",
   "language": "python",
   "name": "python3"
  },
  "language_info": {
   "codemirror_mode": {
    "name": "ipython",
    "version": 3
   },
   "file_extension": ".py",
   "mimetype": "text/x-python",
   "name": "python",
   "nbconvert_exporter": "python",
   "pygments_lexer": "ipython3",
   "version": "3.8.1"
  }
 },
 "nbformat": 4,
 "nbformat_minor": 2
}
