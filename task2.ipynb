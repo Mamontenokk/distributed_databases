{
 "cells": [
  {
   "cell_type": "code",
   "execution_count": null,
   "metadata": {},
   "outputs": [],
   "source": [
    "#docker run -e HZ_NETWORK_PUBLICADDRESS=192.168.0.105:5701 -p 5701:5701 -d hazelcast/hazelcast:latest\n",
    "#docker run -e HZ_NETWORK_PUBLICADDRESS=192.168.0.105:5702 -p 5702:5701 -d hazelcast/hazelcast:latest\n",
    "#docker run -e HZ_NETWORK_PUBLICADDRESS=192.168.0.105:5703 -p 5703:5701 -d hazelcast/hazelcast:latest"
   ]
  },
  {
   "cell_type": "code",
   "execution_count": 1,
   "metadata": {},
   "outputs": [],
   "source": [
    "import hazelcast\n",
    "import logging\n",
    "import threading"
   ]
  },
  {
   "cell_type": "code",
   "execution_count": 2,
   "metadata": {},
   "outputs": [],
   "source": [
    "logging.basicConfig(level=logging.INFO)"
   ]
  },
  {
   "cell_type": "code",
   "execution_count": 3,
   "metadata": {},
   "outputs": [
    {
     "name": "stderr",
     "output_type": "stream",
     "text": [
      "INFO:hazelcast.lifecycle:HazelcastClient 5.3.0 is STARTING\n",
      "INFO:hazelcast.lifecycle:HazelcastClient 5.3.0 is STARTED\n",
      "INFO:hazelcast.connection:Trying to connect to Address(host=127.0.0.1, port=5701)\n",
      "INFO:hazelcast.lifecycle:HazelcastClient 5.3.0 is CONNECTED\n",
      "INFO:hazelcast.connection:Authenticated with server Address(host=192.168.0.105, port=5701):78d11c9b-544d-416f-b77f-19dc93c74064, server version: 5.3.6, local address: Address(host=127.0.0.1, port=52916)\n",
      "INFO:hazelcast.cluster:\n",
      "\n",
      "Members [3] {\n",
      "\tMember [192.168.0.105]:5703 - 09710b69-50e7-4275-a36c-6d712a6a7a11\n",
      "\tMember [192.168.0.105]:5702 - 10c025ca-7c7a-4ed1-bbcf-37fdf10ee598\n",
      "\tMember [192.168.0.105]:5701 - 78d11c9b-544d-416f-b77f-19dc93c74064\n",
      "}\n",
      "\n",
      "INFO:hazelcast.connection:Authenticated with server Address(host=192.168.0.105, port=5703):09710b69-50e7-4275-a36c-6d712a6a7a11, server version: 5.3.6, local address: Address(host=192.168.0.105, port=52919)\n",
      "INFO:hazelcast.connection:Authenticated with server Address(host=192.168.0.105, port=5702):10c025ca-7c7a-4ed1-bbcf-37fdf10ee598, server version: 5.3.6, local address: Address(host=192.168.0.105, port=52920)\n",
      "INFO:hazelcast.client:Client started\n"
     ]
    }
   ],
   "source": [
    "client = hazelcast.HazelcastClient()"
   ]
  },
  {
   "cell_type": "code",
   "execution_count": 4,
   "metadata": {},
   "outputs": [],
   "source": [
    "distributed_map = client.get_map('distributed-map')\n",
    "distributed_map.set('counter', 0).result()"
   ]
  },
  {
   "cell_type": "code",
   "execution_count": 5,
   "metadata": {},
   "outputs": [
    {
     "data": {
      "text/plain": [
       "0"
      ]
     },
     "execution_count": 5,
     "metadata": {},
     "output_type": "execute_result"
    }
   ],
   "source": [
    "distributed_map.get('counter').result()"
   ]
  },
  {
   "cell_type": "code",
   "execution_count": 16,
   "metadata": {},
   "outputs": [],
   "source": [
    "def thread_function():\n",
    "    for _ in range(10000):\n",
    "        counter = distributed_map.get('counter').result()\n",
    "        distributed_map.put('counter', counter+1).result()"
   ]
  },
  {
   "cell_type": "code",
   "execution_count": 17,
   "metadata": {},
   "outputs": [
    {
     "name": "stdout",
     "output_type": "stream",
     "text": [
      "Create and start thread 0\n",
      "Create and start thread 1\n",
      "Create and start thread 2\n",
      "Create and start thread 3\n",
      "Create and start thread 4\n",
      "Create and start thread 5\n",
      "Create and start thread 6\n",
      "Create and start thread 7\n",
      "Create and start thread 8\n",
      "Create and start thread 9\n",
      "Before joining thread 0\n",
      "Thread 0 done\n",
      "Before joining thread 1\n",
      "Thread 1 done\n",
      "Before joining thread 2\n",
      "Thread 2 done\n",
      "Before joining thread 3\n",
      "Thread 3 done\n",
      "Before joining thread 4\n",
      "Thread 4 done\n",
      "Before joining thread 5\n",
      "Thread 5 done\n",
      "Before joining thread 6\n",
      "Thread 6 done\n",
      "Before joining thread 7\n",
      "Thread 7 done\n",
      "Before joining thread 8\n",
      "Thread 8 done\n",
      "Before joining thread 9\n",
      "Thread 9 done\n"
     ]
    }
   ],
   "source": [
    "threads = []\n",
    "\n",
    "for index in range(10):\n",
    "    print(f'Create and start thread {index}')\n",
    "    x = threading.Thread(target=thread_function)\n",
    "    threads.append(x)\n",
    "    x.start()\n",
    "\n",
    "for index, thread in enumerate(threads):\n",
    "    print(f'Before joining thread {index}')\n",
    "    thread.join()\n",
    "    print(f'Thread {index} done')"
   ]
  },
  {
   "cell_type": "code",
   "execution_count": 18,
   "metadata": {},
   "outputs": [
    {
     "data": {
      "text/plain": [
       "10442"
      ]
     },
     "execution_count": 18,
     "metadata": {},
     "output_type": "execute_result"
    }
   ],
   "source": [
    "distributed_map.get('counter').result()"
   ]
  },
  {
   "cell_type": "code",
   "execution_count": 13,
   "metadata": {},
   "outputs": [
    {
     "data": {
      "text/plain": [
       "39"
      ]
     },
     "execution_count": 13,
     "metadata": {},
     "output_type": "execute_result"
    }
   ],
   "source": [
    "distributed_map.put('counter', 0).result()"
   ]
  },
  {
   "cell_type": "code",
   "execution_count": 9,
   "metadata": {},
   "outputs": [],
   "source": [
    "def thread_function_two():\n",
    "    for _ in range(10):\n",
    "        distributed_map.lock('counter')\n",
    "        counter = distributed_map.get('counter').result()\n",
    "        distributed_map.put('counter', counter+1).result()\n",
    "        distributed_map.force_unlock('counter')"
   ]
  },
  {
   "cell_type": "code",
   "execution_count": 10,
   "metadata": {},
   "outputs": [],
   "source": [
    "thread_function_two()"
   ]
  },
  {
   "cell_type": "code",
   "execution_count": 16,
   "metadata": {},
   "outputs": [
    {
     "name": "stdout",
     "output_type": "stream",
     "text": [
      "Create and start thread 0\n",
      "Create and start thread 1\n",
      "Create and start thread 2\n",
      "Create and start thread 3\n",
      "Before joining thread 0\n"
     ]
    }
   ],
   "source": [
    "threads = []\n",
    "\n",
    "for index in range(4):\n",
    "    print(f'Create and start thread {index}')\n",
    "    x = threading.Thread(target=thread_function_two)\n",
    "    threads.append(x)\n",
    "    x.start()\n",
    "\n",
    "for index, thread in enumerate(threads):\n",
    "    print(f'Before joining thread {index}')\n",
    "    thread.join()\n",
    "    print(f'Thread {index} done')"
   ]
  },
  {
   "cell_type": "code",
   "execution_count": 26,
   "metadata": {},
   "outputs": [
    {
     "data": {
      "text/plain": [
       "4658"
      ]
     },
     "execution_count": 26,
     "metadata": {},
     "output_type": "execute_result"
    }
   ],
   "source": [
    "distributed_map.get('counter').result()"
   ]
  },
  {
   "cell_type": "code",
   "execution_count": 39,
   "metadata": {},
   "outputs": [
    {
     "data": {
      "text/plain": [
       "10000"
      ]
     },
     "execution_count": 39,
     "metadata": {},
     "output_type": "execute_result"
    }
   ],
   "source": [
    "distributed_map.put('counter', 0).result()"
   ]
  },
  {
   "cell_type": "code",
   "execution_count": 40,
   "metadata": {},
   "outputs": [],
   "source": [
    "def thread_function_three():\n",
    "    for _ in range(10000):\n",
    "        check = True\n",
    "        while check:\n",
    "            counter = distributed_map.get('counter').result()\n",
    "            if distributed_map.replace_if_same('counter', counter, counter+1).result():\n",
    "                check = False"
   ]
  },
  {
   "cell_type": "code",
   "execution_count": 41,
   "metadata": {},
   "outputs": [
    {
     "name": "stdout",
     "output_type": "stream",
     "text": [
      "Create and start thread 0\n",
      "Create and start thread 1\n",
      "Create and start thread 2\n",
      "Create and start thread 3\n",
      "Create and start thread 4\n",
      "Create and start thread 5\n",
      "Create and start thread 6\n",
      "Create and start thread 7\n",
      "Create and start thread 8\n",
      "Create and start thread 9\n",
      "Before joining thread 0\n",
      "Thread 0 done\n",
      "Before joining thread 1\n",
      "Thread 1 done\n",
      "Before joining thread 2\n",
      "Thread 2 done\n",
      "Before joining thread 3\n",
      "Thread 3 done\n",
      "Before joining thread 4\n",
      "Thread 4 done\n",
      "Before joining thread 5\n",
      "Thread 5 done\n",
      "Before joining thread 6\n",
      "Thread 6 done\n",
      "Before joining thread 7\n",
      "Thread 7 done\n",
      "Before joining thread 8\n",
      "Thread 8 done\n",
      "Before joining thread 9\n",
      "Thread 9 done\n"
     ]
    }
   ],
   "source": [
    "threads = []\n",
    "\n",
    "for index in range(10):\n",
    "    print(f'Create and start thread {index}')\n",
    "    x = threading.Thread(target=thread_function_three)\n",
    "    threads.append(x)\n",
    "    x.start()\n",
    "\n",
    "for index, thread in enumerate(threads):\n",
    "    print(f'Before joining thread {index}')\n",
    "    thread.join()\n",
    "    print(f'Thread {index} done')"
   ]
  },
  {
   "cell_type": "code",
   "execution_count": 43,
   "metadata": {},
   "outputs": [
    {
     "data": {
      "text/plain": [
       "100000"
      ]
     },
     "execution_count": 43,
     "metadata": {},
     "output_type": "execute_result"
    }
   ],
   "source": [
    "distributed_map.get('counter').result()"
   ]
  },
  {
   "cell_type": "code",
   "execution_count": null,
   "metadata": {},
   "outputs": [],
   "source": []
  }
 ],
 "metadata": {
  "kernelspec": {
   "display_name": ".venv",
   "language": "python",
   "name": "python3"
  },
  "language_info": {
   "codemirror_mode": {
    "name": "ipython",
    "version": 3
   },
   "file_extension": ".py",
   "mimetype": "text/x-python",
   "name": "python",
   "nbconvert_exporter": "python",
   "pygments_lexer": "ipython3",
   "version": "3.8.1"
  }
 },
 "nbformat": 4,
 "nbformat_minor": 2
}
