{
 "cells": [
  {
   "cell_type": "code",
   "execution_count": 23,
   "metadata": {},
   "outputs": [],
   "source": [
    "from neo4j import GraphDatabase\n",
    "from datetime import datetime, timedelta"
   ]
  },
  {
   "cell_type": "code",
   "execution_count": null,
   "metadata": {},
   "outputs": [],
   "source": [
    "#docker run -p 7687:7687 -p 7474:7474 --env NEO4J_AUTH=neo4j/neo5jneo5j neo4j"
   ]
  },
  {
   "cell_type": "code",
   "execution_count": 15,
   "metadata": {},
   "outputs": [],
   "source": [
    "AUTH = (\"neo4j\", \"neo5jneo5j\")\n",
    "URI = \"neo4j://localhost\"\n",
    "driver =  GraphDatabase.driver(uri=URI, auth=AUTH)"
   ]
  },
  {
   "cell_type": "code",
   "execution_count": 53,
   "metadata": {},
   "outputs": [],
   "source": [
    "driver.verify_connectivity()"
   ]
  },
  {
   "cell_type": "code",
   "execution_count": 75,
   "metadata": {},
   "outputs": [],
   "source": [
    "#items = id, name, price\n",
    "items = [\n",
    "    {\n",
    "        \"id\": 0,\n",
    "        \"name\": \"apple\",\n",
    "        \"price\": 5\n",
    "    },\n",
    "    {\n",
    "        \"id\": 1,\n",
    "        \"name\": \"pear\",\n",
    "        \"price\": 7\n",
    "    },\n",
    "    {\n",
    "        \"id\": 2,\n",
    "        \"name\": \"sofa\",\n",
    "        \"price\": 10\n",
    "    },\n",
    "    {\n",
    "        \"id\": 3,\n",
    "        \"name\": \"tv\",\n",
    "        \"price\": 15\n",
    "    },\n",
    "    {\n",
    "        \"id\": 4,\n",
    "        \"name\": \"car\",\n",
    "        \"price\": 150\n",
    "    },\n",
    "    {\n",
    "        \"id\": 5,\n",
    "        \"name\": \"plane\",\n",
    "        \"price\": 200\n",
    "    }\n",
    "]"
   ]
  },
  {
   "cell_type": "code",
   "execution_count": 76,
   "metadata": {},
   "outputs": [
    {
     "name": "stdout",
     "output_type": "stream",
     "text": [
      "Created 6 nodes in 3 ms.\n"
     ]
    }
   ],
   "source": [
    "summary = driver.execute_query(\n",
    "    \"\"\"\n",
    "    UNWIND $rows AS row\n",
    "    CREATE (:Item {id: row.id, name: row.name, price: row.price})\n",
    "    \"\"\",\n",
    "    rows=items\n",
    ").summary\n",
    "\n",
    "print(\"Created {nodes_created} nodes in {time} ms.\".format(\n",
    "    nodes_created=summary.counters.nodes_created,\n",
    "    time=summary.result_available_after\n",
    "))"
   ]
  },
  {
   "cell_type": "code",
   "execution_count": 77,
   "metadata": {},
   "outputs": [],
   "source": [
    "#customers = id, name\n",
    "customers = [\n",
    "    {\n",
    "        \"id\": 0,\n",
    "        \"name\": \"Maru\"\n",
    "    },\n",
    "    {\n",
    "        \"id\": 1,\n",
    "        \"name\": \"Mike\"\n",
    "    },\n",
    "    {\n",
    "        \"id\": 2,\n",
    "        \"name\": \"Bob\"\n",
    "    },\n",
    "    {\n",
    "        \"id\": 3,\n",
    "        \"name\": \"Don\"\n",
    "    }\n",
    "]"
   ]
  },
  {
   "cell_type": "code",
   "execution_count": 78,
   "metadata": {},
   "outputs": [
    {
     "name": "stdout",
     "output_type": "stream",
     "text": [
      "Created 4 nodes in 3 ms.\n"
     ]
    }
   ],
   "source": [
    "summary = driver.execute_query(\n",
    "    \"\"\"\n",
    "    UNWIND $rows AS row\n",
    "    CREATE (:Customer {id: row.id, name: row.name})\n",
    "    \"\"\",\n",
    "    rows=customers\n",
    ").summary\n",
    "\n",
    "print(\"Created {nodes_created} nodes in {time} ms.\".format(\n",
    "    nodes_created=summary.counters.nodes_created,\n",
    "    time=summary.result_available_after\n",
    "))"
   ]
  },
  {
   "cell_type": "code",
   "execution_count": 79,
   "metadata": {},
   "outputs": [],
   "source": [
    "#orders = id, date\n",
    "orders = [\n",
    "    {\n",
    "        \"id\": 0,\n",
    "        \"date\": datetime.today().date() - timedelta(days=1)\n",
    "    },\n",
    "    {\n",
    "        \"id\": 1,\n",
    "        \"date\": datetime.today().date() - timedelta(days=5)\n",
    "    },\n",
    "    {\n",
    "        \"id\": 2,\n",
    "        \"date\": datetime.today().date() - timedelta(days=2)\n",
    "    },\n",
    "    {\n",
    "        \"id\": 3,\n",
    "        \"date\": datetime.today().date() - timedelta(days=1)\n",
    "    },\n",
    "    {\n",
    "        \"id\": 4,\n",
    "        \"date\": datetime.today().date() - timedelta(days=7)\n",
    "    },\n",
    "    {\n",
    "        \"id\": 5,\n",
    "        \"date\": datetime.today().date() - timedelta(days=2)\n",
    "    },\n",
    "    {\n",
    "        \"id\": 6,\n",
    "        \"date\": datetime.today().date() - timedelta(days=2)\n",
    "    }\n",
    "]"
   ]
  },
  {
   "cell_type": "code",
   "execution_count": 80,
   "metadata": {},
   "outputs": [
    {
     "name": "stdout",
     "output_type": "stream",
     "text": [
      "Created 7 nodes in 4 ms.\n"
     ]
    }
   ],
   "source": [
    "summary = driver.execute_query(\n",
    "    \"\"\"\n",
    "    UNWIND $rows AS row\n",
    "    CREATE (:Order {id: row.id, date: row.date})\n",
    "    \"\"\",\n",
    "    rows=orders\n",
    ").summary\n",
    "\n",
    "print(\"Created {nodes_created} nodes in {time} ms.\".format(\n",
    "    nodes_created=summary.counters.nodes_created,\n",
    "    time=summary.result_available_after\n",
    "))"
   ]
  },
  {
   "cell_type": "code",
   "execution_count": 85,
   "metadata": {},
   "outputs": [],
   "source": [
    "records, summary, keys = driver.execute_query(\n",
    "    \"MATCH (o:Order) RETURN o\",\n",
    ")"
   ]
  },
  {
   "cell_type": "code",
   "execution_count": 86,
   "metadata": {},
   "outputs": [
    {
     "data": {
      "text/plain": [
       "[<Record o=<Node element_id='4:e9c8fa48-66f6-4485-a416-f2fb9e8714c5:38' labels=frozenset({'Order'}) properties={'date': neo4j.time.Date(2024, 3, 5), 'id': 0}>>,\n",
       " <Record o=<Node element_id='4:e9c8fa48-66f6-4485-a416-f2fb9e8714c5:39' labels=frozenset({'Order'}) properties={'date': neo4j.time.Date(2024, 3, 1), 'id': 1}>>,\n",
       " <Record o=<Node element_id='4:e9c8fa48-66f6-4485-a416-f2fb9e8714c5:40' labels=frozenset({'Order'}) properties={'date': neo4j.time.Date(2024, 3, 4), 'id': 2}>>,\n",
       " <Record o=<Node element_id='4:e9c8fa48-66f6-4485-a416-f2fb9e8714c5:41' labels=frozenset({'Order'}) properties={'date': neo4j.time.Date(2024, 3, 5), 'id': 3}>>,\n",
       " <Record o=<Node element_id='4:e9c8fa48-66f6-4485-a416-f2fb9e8714c5:42' labels=frozenset({'Order'}) properties={'date': neo4j.time.Date(2024, 2, 28), 'id': 4}>>,\n",
       " <Record o=<Node element_id='4:e9c8fa48-66f6-4485-a416-f2fb9e8714c5:43' labels=frozenset({'Order'}) properties={'date': neo4j.time.Date(2024, 3, 4), 'id': 5}>>,\n",
       " <Record o=<Node element_id='4:e9c8fa48-66f6-4485-a416-f2fb9e8714c5:44' labels=frozenset({'Order'}) properties={'date': neo4j.time.Date(2024, 3, 4), 'id': 6}>>]"
      ]
     },
     "execution_count": 86,
     "metadata": {},
     "output_type": "execute_result"
    }
   ],
   "source": [
    "records"
   ]
  },
  {
   "cell_type": "code",
   "execution_count": 83,
   "metadata": {},
   "outputs": [],
   "source": [
    "customer_order = [\n",
    "    {\n",
    "        \"customer_id\": 0,\n",
    "        \"order_id\": 0\n",
    "    },\n",
    "    {\n",
    "        \"customer_id\": 1,\n",
    "        \"order_id\": 2\n",
    "    },\n",
    "    {\n",
    "        \"customer_id\": 2,\n",
    "        \"order_id\": 1\n",
    "    },\n",
    "    {\n",
    "        \"customer_id\": 3,\n",
    "        \"order_id\": 3\n",
    "    },\n",
    "    {\n",
    "        \"customer_id\": 1,\n",
    "        \"order_id\": 4\n",
    "    },\n",
    "    {\n",
    "        \"customer_id\": 0,\n",
    "        \"order_id\": 5\n",
    "    },\n",
    "    {\n",
    "        \"customer_id\": 1,\n",
    "        \"order_id\": 6\n",
    "    }\n",
    "]"
   ]
  },
  {
   "cell_type": "code",
   "execution_count": 87,
   "metadata": {},
   "outputs": [
    {
     "name": "stdout",
     "output_type": "stream",
     "text": [
      "Query counters: {}.\n"
     ]
    }
   ],
   "source": [
    "records, summary, keys = driver.execute_query(\n",
    "    \"\"\"\n",
    "    UNWIND $rows AS row\n",
    "    MATCH (c:Customer {id: row.customer_id})  \n",
    "    MATCH (o:Order {id: row.order_id})\n",
    "    MERGE  (c)-[:BOUGHT]->(o)  \n",
    "    \"\"\", \n",
    "    rows=customer_order\n",
    ")\n",
    "print(f\"Query counters: {summary.counters}.\")"
   ]
  },
  {
   "cell_type": "code",
   "execution_count": 36,
   "metadata": {},
   "outputs": [],
   "source": [
    "order_item = [\n",
    "    {\n",
    "        \"order_id\": 0,\n",
    "        \"item_id\": 0\n",
    "    },\n",
    "    {\n",
    "        \"order_id\": 0,\n",
    "        \"item_id\": 3\n",
    "    },\n",
    "    {\n",
    "        \"order_id\": 0,\n",
    "        \"item_id\": 2\n",
    "    },\n",
    "    {\n",
    "        \"order_id\": 1,\n",
    "        \"item_id\": 0\n",
    "    },\n",
    "    {\n",
    "        \"order_id\": 1,\n",
    "        \"item_id\": 5\n",
    "    },\n",
    "    {\n",
    "        \"order_id\": 2,\n",
    "        \"item_id\": 1\n",
    "    },\n",
    "    {\n",
    "        \"order_id\": 3,\n",
    "        \"item_id\": 3\n",
    "    },{\n",
    "        \"order_id\": 3,\n",
    "        \"item_id\": 2\n",
    "    },\n",
    "    {\n",
    "        \"order_id\": 4,\n",
    "        \"item_id\": 0\n",
    "    },\n",
    "    {\n",
    "        \"order_id\": 5,\n",
    "        \"item_id\": 1\n",
    "    },\n",
    "    {\n",
    "        \"order_id\": 5,\n",
    "        \"item_id\": 3\n",
    "    },\n",
    "    {\n",
    "        \"order_id\": 5,\n",
    "        \"item_id\": 2\n",
    "    },\n",
    "    {\n",
    "        \"order_id\": 6,\n",
    "        \"item_id\": 5\n",
    "    },\n",
    "\n",
    "]"
   ]
  },
  {
   "cell_type": "code",
   "execution_count": 88,
   "metadata": {},
   "outputs": [
    {
     "name": "stdout",
     "output_type": "stream",
     "text": [
      "Query counters: {'_contains_updates': True, 'relationships_created': 13}.\n"
     ]
    }
   ],
   "source": [
    "records, summary, keys = driver.execute_query(\n",
    "    \"\"\"\n",
    "    UNWIND $rows AS row\n",
    "    MATCH (o:Order {id: row.order_id})  \n",
    "    MATCH (i:Item {id: row.item_id})\n",
    "    MERGE  (o)-[:CONTAINS]->(i)  \n",
    "    \"\"\", \n",
    "    rows=order_item\n",
    ")\n",
    "print(f\"Query counters: {summary.counters}.\")"
   ]
  },
  {
   "cell_type": "code",
   "execution_count": 89,
   "metadata": {},
   "outputs": [],
   "source": [
    "customer_item = [\n",
    "    {\n",
    "        \"customer_id\": 0,\n",
    "        \"item_id\": 0\n",
    "    },\n",
    "    {\n",
    "        \"customer_id\": 0,\n",
    "        \"item_id\": 4\n",
    "    },\n",
    "    {\n",
    "        \"customer_id\": 0,\n",
    "        \"item_id\": 5\n",
    "    },\n",
    "    {\n",
    "        \"customer_id\": 1,\n",
    "        \"item_id\": 0\n",
    "    },\n",
    "    {\n",
    "        \"customer_id\": 1,\n",
    "        \"item_id\": 5\n",
    "    },\n",
    "    {\n",
    "        \"customer_id\": 1,\n",
    "        \"item_id\": 2\n",
    "    },\n",
    "    {\n",
    "        \"customer_id\": 2,\n",
    "        \"item_id\": 3\n",
    "    },\n",
    "    {\n",
    "        \"customer_id\": 2,\n",
    "        \"item_id\": 2\n",
    "    },\n",
    "    {\n",
    "        \"customer_id\": 2,\n",
    "        \"item_id\": 0\n",
    "    },\n",
    "    {\n",
    "        \"customer_id\": 3,\n",
    "        \"item_id\": 1\n",
    "    },\n",
    "    {\n",
    "        \"customer_id\": 3,\n",
    "        \"item_id\": 2\n",
    "    },\n",
    "    {\n",
    "        \"customer_id\": 3,\n",
    "        \"item_id\": 5\n",
    "    }\n",
    "]"
   ]
  },
  {
   "cell_type": "code",
   "execution_count": 90,
   "metadata": {},
   "outputs": [
    {
     "name": "stdout",
     "output_type": "stream",
     "text": [
      "Query counters: {'_contains_updates': True, 'relationships_created': 12}.\n"
     ]
    }
   ],
   "source": [
    "records, summary, keys = driver.execute_query(\n",
    "    \"\"\"\n",
    "    UNWIND $rows AS row\n",
    "    MATCH (c:Customer {id: row.customer_id})  \n",
    "    MATCH (i:Item {id: row.item_id})\n",
    "    MERGE  (c)-[:VIEWED]->(i)  \n",
    "    \"\"\", \n",
    "    rows=customer_item\n",
    ")\n",
    "print(f\"Query counters: {summary.counters}.\")"
   ]
  },
  {
   "cell_type": "code",
   "execution_count": 96,
   "metadata": {},
   "outputs": [
    {
     "data": {
      "text/plain": [
       "[<Record i=<Node element_id='4:e9c8fa48-66f6-4485-a416-f2fb9e8714c5:30' labels=frozenset({'Item'}) properties={'price': 10, 'name': 'sofa', 'id': 2}>>,\n",
       " <Record i=<Node element_id='4:e9c8fa48-66f6-4485-a416-f2fb9e8714c5:31' labels=frozenset({'Item'}) properties={'price': 15, 'name': 'tv', 'id': 3}>>,\n",
       " <Record i=<Node element_id='4:e9c8fa48-66f6-4485-a416-f2fb9e8714c5:28' labels=frozenset({'Item'}) properties={'price': 5, 'name': 'apple', 'id': 0}>>]"
      ]
     },
     "execution_count": 96,
     "metadata": {},
     "output_type": "execute_result"
    }
   ],
   "source": [
    "records, summary, keys = driver.execute_query(\n",
    "    \"\"\"\n",
    "    MATCH (o:Order {id:$order_id})-[CONTAINS]->(i:Item)\n",
    "    return i\n",
    "    \"\"\",\n",
    "    order_id=0\n",
    ")\n",
    "records"
   ]
  },
  {
   "cell_type": "code",
   "execution_count": 97,
   "metadata": {},
   "outputs": [
    {
     "data": {
      "text/plain": [
       "[<Record sum(i.price)=205>]"
      ]
     },
     "execution_count": 97,
     "metadata": {},
     "output_type": "execute_result"
    }
   ],
   "source": [
    "records, summary, keys = driver.execute_query(\n",
    "    \"\"\"\n",
    "    MATCH (o:Order {id:$order_id})-[CONTAINS]->(i:Item)\n",
    "    return sum(i.price)\n",
    "    \"\"\",\n",
    "    order_id=1\n",
    ")\n",
    "records"
   ]
  },
  {
   "cell_type": "code",
   "execution_count": 98,
   "metadata": {},
   "outputs": [
    {
     "data": {
      "text/plain": [
       "[<Record o=<Node element_id='4:e9c8fa48-66f6-4485-a416-f2fb9e8714c5:39' labels=frozenset({'Order'}) properties={'date': neo4j.time.Date(2024, 3, 1), 'id': 1}>>]"
      ]
     },
     "execution_count": 98,
     "metadata": {},
     "output_type": "execute_result"
    }
   ],
   "source": [
    "records, summary, keys = driver.execute_query(\n",
    "    \"\"\"\n",
    "    MATCH (c:Customer {id:$customer_id})-[BOUGHT]->(o:Order)\n",
    "    return o\n",
    "    \"\"\",\n",
    "    customer_id=2\n",
    ")\n",
    "records"
   ]
  },
  {
   "cell_type": "code",
   "execution_count": 103,
   "metadata": {},
   "outputs": [
    {
     "data": {
      "text/plain": [
       "[<Record i=<Node element_id='4:e9c8fa48-66f6-4485-a416-f2fb9e8714c5:30' labels=frozenset({'Item'}) properties={'price': 10, 'name': 'sofa', 'id': 2}>>,\n",
       " <Record i=<Node element_id='4:e9c8fa48-66f6-4485-a416-f2fb9e8714c5:31' labels=frozenset({'Item'}) properties={'price': 15, 'name': 'tv', 'id': 3}>>,\n",
       " <Record i=<Node element_id='4:e9c8fa48-66f6-4485-a416-f2fb9e8714c5:29' labels=frozenset({'Item'}) properties={'price': 7, 'name': 'pear', 'id': 1}>>,\n",
       " <Record i=<Node element_id='4:e9c8fa48-66f6-4485-a416-f2fb9e8714c5:30' labels=frozenset({'Item'}) properties={'price': 10, 'name': 'sofa', 'id': 2}>>,\n",
       " <Record i=<Node element_id='4:e9c8fa48-66f6-4485-a416-f2fb9e8714c5:31' labels=frozenset({'Item'}) properties={'price': 15, 'name': 'tv', 'id': 3}>>,\n",
       " <Record i=<Node element_id='4:e9c8fa48-66f6-4485-a416-f2fb9e8714c5:28' labels=frozenset({'Item'}) properties={'price': 5, 'name': 'apple', 'id': 0}>>]"
      ]
     },
     "execution_count": 103,
     "metadata": {},
     "output_type": "execute_result"
    }
   ],
   "source": [
    "records, summary, keys = driver.execute_query(\n",
    "    \"\"\"\n",
    "    MATCH (c:Customer {id:$customer_id})-[BOUGHT]->(o:Order)-[CONTAINS]->(i:Item)\n",
    "    return i\n",
    "    \"\"\",\n",
    "    customer_id=0\n",
    ")\n",
    "records"
   ]
  },
  {
   "cell_type": "code",
   "execution_count": 104,
   "metadata": {},
   "outputs": [
    {
     "data": {
      "text/plain": [
       "[<Record count(i)=6>]"
      ]
     },
     "execution_count": 104,
     "metadata": {},
     "output_type": "execute_result"
    }
   ],
   "source": [
    "records, summary, keys = driver.execute_query(\n",
    "    \"\"\"\n",
    "    MATCH (c:Customer {id:$customer_id})-[BOUGHT]->(o:Order)-[CONTAINS]->(i:Item)\n",
    "    return count(i)\n",
    "    \"\"\",\n",
    "    customer_id=0\n",
    ")\n",
    "records"
   ]
  },
  {
   "cell_type": "code",
   "execution_count": 128,
   "metadata": {},
   "outputs": [
    {
     "data": {
      "text/plain": [
       "[<Record sum(i.price)=62>]"
      ]
     },
     "execution_count": 128,
     "metadata": {},
     "output_type": "execute_result"
    }
   ],
   "source": [
    "records, summary, keys = driver.execute_query(\n",
    "    \"\"\"\n",
    "    MATCH (c:Customer {id:$customer_id})-[BOUGHT]->(o:Order)-[CONTAINS]->(i:Item)\n",
    "    return sum(i.price)\n",
    "    \"\"\",\n",
    "    customer_id=0\n",
    ")\n",
    "records"
   ]
  },
  {
   "cell_type": "code",
   "execution_count": 113,
   "metadata": {},
   "outputs": [
    {
     "data": {
      "text/plain": [
       "[<Record i.name='plane' count(i)=2>,\n",
       " <Record i.name='pear' count(i)=2>,\n",
       " <Record i.name='sofa' count(i)=3>,\n",
       " <Record i.name='tv' count(i)=3>,\n",
       " <Record i.name='apple' count(i)=3>]"
      ]
     },
     "execution_count": 113,
     "metadata": {},
     "output_type": "execute_result"
    }
   ],
   "source": [
    "records, summary, keys = driver.execute_query(\n",
    "    \"\"\"\n",
    "    MATCH (o:Order)-[CONTAINS]->(i:Item)\n",
    "    RETURN i.name, count(i) \n",
    "    ORDER BY count(i)\n",
    "    \"\"\",\n",
    "    customer_id=0\n",
    ")\n",
    "records"
   ]
  },
  {
   "cell_type": "code",
   "execution_count": 114,
   "metadata": {},
   "outputs": [
    {
     "data": {
      "text/plain": [
       "[<Record i=<Node element_id='4:e9c8fa48-66f6-4485-a416-f2fb9e8714c5:33' labels=frozenset({'Item'}) properties={'price': 200, 'name': 'plane', 'id': 5}>>,\n",
       " <Record i=<Node element_id='4:e9c8fa48-66f6-4485-a416-f2fb9e8714c5:32' labels=frozenset({'Item'}) properties={'price': 150, 'name': 'car', 'id': 4}>>,\n",
       " <Record i=<Node element_id='4:e9c8fa48-66f6-4485-a416-f2fb9e8714c5:28' labels=frozenset({'Item'}) properties={'price': 5, 'name': 'apple', 'id': 0}>>]"
      ]
     },
     "execution_count": 114,
     "metadata": {},
     "output_type": "execute_result"
    }
   ],
   "source": [
    "records, summary, keys = driver.execute_query(\n",
    "    \"\"\"\n",
    "    MATCH (c:Customer {id:$customer_id})-[VIEWED]->(i:Item)\n",
    "    return i\n",
    "    \"\"\",\n",
    "    customer_id=0\n",
    ")\n",
    "records"
   ]
  },
  {
   "cell_type": "code",
   "execution_count": 129,
   "metadata": {},
   "outputs": [
    {
     "data": {
      "text/plain": [
       "[<Record other_item=<Node element_id='4:e9c8fa48-66f6-4485-a416-f2fb9e8714c5:33' labels=frozenset({'Item'}) properties={'price': 200, 'name': 'plane', 'id': 5}>>,\n",
       " <Record other_item=<Node element_id='4:e9c8fa48-66f6-4485-a416-f2fb9e8714c5:30' labels=frozenset({'Item'}) properties={'price': 10, 'name': 'sofa', 'id': 2}>>,\n",
       " <Record other_item=<Node element_id='4:e9c8fa48-66f6-4485-a416-f2fb9e8714c5:31' labels=frozenset({'Item'}) properties={'price': 15, 'name': 'tv', 'id': 3}>>]"
      ]
     },
     "execution_count": 129,
     "metadata": {},
     "output_type": "execute_result"
    }
   ],
   "source": [
    "records, summary, keys = driver.execute_query(\n",
    "    \"\"\"\n",
    "    MATCH (i:Item {id:$item_id})<-[:CONTAINS]-(o:Order)-[:CONTAINS]->(other_item:Item)\n",
    "    return other_item\n",
    "    \"\"\",\n",
    "    item_id=0\n",
    ")\n",
    "records"
   ]
  },
  {
   "cell_type": "code",
   "execution_count": 132,
   "metadata": {},
   "outputs": [
    {
     "data": {
      "text/plain": [
       "[<Record c=<Node element_id='4:e9c8fa48-66f6-4485-a416-f2fb9e8714c5:35' labels=frozenset({'Customer'}) properties={'name': 'Mike', 'id': 1}>>,\n",
       " <Record c=<Node element_id='4:e9c8fa48-66f6-4485-a416-f2fb9e8714c5:36' labels=frozenset({'Customer'}) properties={'name': 'Bob', 'id': 2}>>,\n",
       " <Record c=<Node element_id='4:e9c8fa48-66f6-4485-a416-f2fb9e8714c5:34' labels=frozenset({'Customer'}) properties={'name': 'Maru', 'id': 0}>>]"
      ]
     },
     "execution_count": 132,
     "metadata": {},
     "output_type": "execute_result"
    }
   ],
   "source": [
    "records, summary, keys = driver.execute_query(\n",
    "    \"\"\"\n",
    "    MATCH (i:Item {id:$item_id})<-[:CONTAINS]-(o:Order)<-[:BOUGHT]-(c:Customer)\n",
    "    return c\n",
    "    \"\"\",\n",
    "    item_id=0\n",
    ")\n",
    "records"
   ]
  },
  {
   "cell_type": "code",
   "execution_count": 150,
   "metadata": {},
   "outputs": [
    {
     "data": {
      "text/plain": [
       "[<Record viewed_item=<Node element_id='4:e9c8fa48-66f6-4485-a416-f2fb9e8714c5:33' labels=frozenset({'Item'}) properties={'price': 200, 'name': 'plane', 'id': 5}>>,\n",
       " <Record viewed_item=<Node element_id='4:e9c8fa48-66f6-4485-a416-f2fb9e8714c5:32' labels=frozenset({'Item'}) properties={'price': 150, 'name': 'car', 'id': 4}>>]"
      ]
     },
     "execution_count": 150,
     "metadata": {},
     "output_type": "execute_result"
    }
   ],
   "source": [
    "records, summary, keys = driver.execute_query(\n",
    "    \"\"\"\n",
    "    MATCH (c:Customer {id: $customer_id})-[:VIEWED]->(viewed_item:Item)\n",
    "    WHERE NOT (viewed_item:Item)<-[:CONTAINS]-(:Order)<-[:BOUGHT]-(c)\n",
    "    return distinct viewed_item\n",
    "    \"\"\",\n",
    "    customer_id=0\n",
    ")\n",
    "records"
   ]
  },
  {
   "cell_type": "code",
   "execution_count": null,
   "metadata": {},
   "outputs": [],
   "source": []
  }
 ],
 "metadata": {
  "kernelspec": {
   "display_name": ".venv",
   "language": "python",
   "name": "python3"
  },
  "language_info": {
   "codemirror_mode": {
    "name": "ipython",
    "version": 3
   },
   "file_extension": ".py",
   "mimetype": "text/x-python",
   "name": "python",
   "nbconvert_exporter": "python",
   "pygments_lexer": "ipython3",
   "version": "3.8.1"
  }
 },
 "nbformat": 4,
 "nbformat_minor": 2
}
